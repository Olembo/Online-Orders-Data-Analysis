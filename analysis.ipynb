{
 "cells": [
  {
   "cell_type": "markdown",
   "id": "e7c57538",
   "metadata": {},
   "source": [
    "# Project Objective\n",
    "\n",
    "## Background\n",
    "This dataset contains personal online shopping orders placed by myself and my wife between 2018 and 2025. It includes information such as purchase date, product details, quantity, platform, discount applied, payment method, delivery status, and returns. The data was manually collected over the years for personal tracking and financial awareness.\n",
    "\n",
    "## Goal\n",
    "To analyze our online shopping behavior over time, uncover key spending trends, identify which platforms and products we favor, and highlight areas where we've saved or lost money (e.g., discounts, returns).\n",
    "\n",
    "## Who is this for?\n",
    "This project is for potential employers or recruiters evaluating my data analysis skills. It's also for myself, as a way to apply data storytelling concepts and learn how to communicate insights effectively.\n",
    "\n",
    "## Expected Deliverables\n",
    "- Cleaned dataset and feature engineering\n",
    "- Key insights with visualizations (using Python and best practices from *Storytelling with Data*)\n",
    "- Slide deck with 3–5 insights presented clearly\n",
    "- GitHub repository with project documentation\n"
   ]
  },
  {
   "cell_type": "code",
   "execution_count": 1,
   "id": "ba6848b2",
   "metadata": {},
   "outputs": [],
   "source": [
    "# Import libraries\n",
    "import pandas as pd"
   ]
  },
  {
   "cell_type": "code",
   "execution_count": 2,
   "id": "25aad864",
   "metadata": {},
   "outputs": [],
   "source": [
    "#loading the data\n",
    "df = pd.read_csv('online_orders.csv', dtype=str, sep=';')"
   ]
  },
  {
   "cell_type": "markdown",
   "id": "d0620611",
   "metadata": {},
   "source": [
    "### I read the Dataset as string because:\n",
    "\n",
    "While loading the dataset, I encountered issues with incorrect date parsing — specifically with the `purchase_date` column. Although the original format was `DD/MM/YY`, pandas was misinterpreting some values using the default US-style format (`MM/DD/YY`), which led to incorrect dates (e.g., `16/11/24` being read as `2024-11-04`).\n",
    "\n",
    "To avoid this issue and ensure full control over the parsing process, I decided to read the entire dataset as strings (`dtype=str`). This approach prevents pandas from making automatic inferences and allows me to explicitly handle:\n",
    "- Date parsing (with `dayfirst=True`)\n",
    "- Numeric conversion\n",
    "- Whitespace and formatting inconsistencies\n",
    "\n",
    "This extra step ensures the data is cleaned consistently and reflects the actual values in the source file.\n"
   ]
  },
  {
   "cell_type": "code",
   "execution_count": 3,
   "id": "b2193c59",
   "metadata": {},
   "outputs": [
    {
     "data": {
      "application/vnd.microsoft.datawrangler.viewer.v0+json": {
       "columns": [
        {
         "name": "index",
         "rawType": "int64",
         "type": "integer"
        },
        {
         "name": "Order ID",
         "rawType": "object",
         "type": "string"
        },
        {
         "name": "Purchase Date",
         "rawType": "object",
         "type": "string"
        },
        {
         "name": "platform",
         "rawType": "object",
         "type": "string"
        },
        {
         "name": "items name",
         "rawType": "object",
         "type": "string"
        },
        {
         "name": " Category",
         "rawType": "object",
         "type": "string"
        },
        {
         "name": "Quantity",
         "rawType": "object",
         "type": "string"
        },
        {
         "name": "Unit-price",
         "rawType": "object",
         "type": "string"
        },
        {
         "name": "shipping cost",
         "rawType": "object",
         "type": "string"
        },
        {
         "name": "Discount apllied",
         "rawType": "object",
         "type": "string"
        },
        {
         "name": "discount amount",
         "rawType": "object",
         "type": "string"
        },
        {
         "name": " total price",
         "rawType": "object",
         "type": "string"
        },
        {
         "name": "Payment method",
         "rawType": "object",
         "type": "string"
        },
        {
         "name": "status",
         "rawType": "object",
         "type": "string"
        },
        {
         "name": "delivery date",
         "rawType": "object",
         "type": "string"
        },
        {
         "name": "shipping address",
         "rawType": "object",
         "type": "string"
        },
        {
         "name": "City",
         "rawType": "object",
         "type": "string"
        },
        {
         "name": "Country",
         "rawType": "object",
         "type": "string"
        },
        {
         "name": "return/refund",
         "rawType": "object",
         "type": "string"
        },
        {
         "name": "order by",
         "rawType": "object",
         "type": "string"
        }
       ],
       "ref": "01292b31-1411-4dcd-9ac3-c5d10fafb01d",
       "rows": [
        [
         "0",
         "p7yo25136g66",
         "29/3/25",
         "food panda",
         "beef fried rice",
         "food",
         "1",
         "115",
         "31",
         "no",
         "0",
         "146",
         "credit card",
         "delivered",
         "29/3/25",
         "56, Chenggong E Rd, Changhua County, 510",
         "Yuanlin",
         "Taiwan",
         "0",
         "me"
        ],
        [
         "1",
         "po6u2501tjvc",
         "5/1/25",
         "food panda",
         "braised beef noodle soup combo",
         "food",
         "1",
         "245",
         "23",
         "no",
         "0",
         "268",
         "credit card",
         "delivered",
         "5/1/25",
         "56, Chenggong E Rd, Changhua County, 510",
         "Yuanlin",
         "Taiwan",
         "0",
         "me"
        ],
        [
         "2",
         "uad22451s19m",
         "21/12/24",
         "food panda",
         "Local Taiwanese roasted pork sandwich set",
         "food",
         "1",
         "185",
         "0",
         "yes",
         "5",
         "185",
         "credit card",
         "delivered",
         "21/12/24",
         "56, Chenggong E Rd, Changhua County, 510",
         "Yuanlin",
         "Taiwan",
         "0",
         "me"
        ],
        [
         "3",
         "uad22451s19m",
         "21/12/24",
         "food panda",
         "cheese bombed roast pork sandwich set",
         "food",
         "1",
         "259",
         "0",
         "yes",
         "5",
         "254",
         "credit card",
         "delivered",
         "21/12/24",
         "56, Chenggong E Rd, Changhua County, 510",
         "Yuanlin",
         "Taiwan",
         "0",
         "me"
        ],
        [
         "4",
         "r2cs2450hsvb",
         "14/12/24",
         "food panda",
         "chicken fried rice",
         "food",
         "1",
         "115",
         "0",
         "no",
         "0",
         "117",
         "credit card",
         "delivered",
         "14/12/24",
         "56, Chenggong E Rd, Changhua County, 510",
         "Yuanlin",
         "Taiwan",
         "0",
         "me"
        ]
       ],
       "shape": {
        "columns": 19,
        "rows": 5
       }
      },
      "text/html": [
       "<div>\n",
       "<style scoped>\n",
       "    .dataframe tbody tr th:only-of-type {\n",
       "        vertical-align: middle;\n",
       "    }\n",
       "\n",
       "    .dataframe tbody tr th {\n",
       "        vertical-align: top;\n",
       "    }\n",
       "\n",
       "    .dataframe thead th {\n",
       "        text-align: right;\n",
       "    }\n",
       "</style>\n",
       "<table border=\"1\" class=\"dataframe\">\n",
       "  <thead>\n",
       "    <tr style=\"text-align: right;\">\n",
       "      <th></th>\n",
       "      <th>Order ID</th>\n",
       "      <th>Purchase Date</th>\n",
       "      <th>platform</th>\n",
       "      <th>items name</th>\n",
       "      <th>Category</th>\n",
       "      <th>Quantity</th>\n",
       "      <th>Unit-price</th>\n",
       "      <th>shipping cost</th>\n",
       "      <th>Discount apllied</th>\n",
       "      <th>discount amount</th>\n",
       "      <th>total price</th>\n",
       "      <th>Payment method</th>\n",
       "      <th>status</th>\n",
       "      <th>delivery date</th>\n",
       "      <th>shipping address</th>\n",
       "      <th>City</th>\n",
       "      <th>Country</th>\n",
       "      <th>return/refund</th>\n",
       "      <th>order by</th>\n",
       "    </tr>\n",
       "  </thead>\n",
       "  <tbody>\n",
       "    <tr>\n",
       "      <th>0</th>\n",
       "      <td>p7yo25136g66</td>\n",
       "      <td>29/3/25</td>\n",
       "      <td>food panda</td>\n",
       "      <td>beef fried rice</td>\n",
       "      <td>food</td>\n",
       "      <td>1</td>\n",
       "      <td>115</td>\n",
       "      <td>31</td>\n",
       "      <td>no</td>\n",
       "      <td>0</td>\n",
       "      <td>146</td>\n",
       "      <td>credit card</td>\n",
       "      <td>delivered</td>\n",
       "      <td>29/3/25</td>\n",
       "      <td>56, Chenggong E Rd, Changhua County, 510</td>\n",
       "      <td>Yuanlin</td>\n",
       "      <td>Taiwan</td>\n",
       "      <td>0</td>\n",
       "      <td>me</td>\n",
       "    </tr>\n",
       "    <tr>\n",
       "      <th>1</th>\n",
       "      <td>po6u2501tjvc</td>\n",
       "      <td>5/1/25</td>\n",
       "      <td>food panda</td>\n",
       "      <td>braised beef noodle soup combo</td>\n",
       "      <td>food</td>\n",
       "      <td>1</td>\n",
       "      <td>245</td>\n",
       "      <td>23</td>\n",
       "      <td>no</td>\n",
       "      <td>0</td>\n",
       "      <td>268</td>\n",
       "      <td>credit card</td>\n",
       "      <td>delivered</td>\n",
       "      <td>5/1/25</td>\n",
       "      <td>56, Chenggong E Rd, Changhua County, 510</td>\n",
       "      <td>Yuanlin</td>\n",
       "      <td>Taiwan</td>\n",
       "      <td>0</td>\n",
       "      <td>me</td>\n",
       "    </tr>\n",
       "    <tr>\n",
       "      <th>2</th>\n",
       "      <td>uad22451s19m</td>\n",
       "      <td>21/12/24</td>\n",
       "      <td>food panda</td>\n",
       "      <td>Local Taiwanese roasted pork sandwich set</td>\n",
       "      <td>food</td>\n",
       "      <td>1</td>\n",
       "      <td>185</td>\n",
       "      <td>0</td>\n",
       "      <td>yes</td>\n",
       "      <td>5</td>\n",
       "      <td>185</td>\n",
       "      <td>credit card</td>\n",
       "      <td>delivered</td>\n",
       "      <td>21/12/24</td>\n",
       "      <td>56, Chenggong E Rd, Changhua County, 510</td>\n",
       "      <td>Yuanlin</td>\n",
       "      <td>Taiwan</td>\n",
       "      <td>0</td>\n",
       "      <td>me</td>\n",
       "    </tr>\n",
       "    <tr>\n",
       "      <th>3</th>\n",
       "      <td>uad22451s19m</td>\n",
       "      <td>21/12/24</td>\n",
       "      <td>food panda</td>\n",
       "      <td>cheese bombed roast pork sandwich set</td>\n",
       "      <td>food</td>\n",
       "      <td>1</td>\n",
       "      <td>259</td>\n",
       "      <td>0</td>\n",
       "      <td>yes</td>\n",
       "      <td>5</td>\n",
       "      <td>254</td>\n",
       "      <td>credit card</td>\n",
       "      <td>delivered</td>\n",
       "      <td>21/12/24</td>\n",
       "      <td>56, Chenggong E Rd, Changhua County, 510</td>\n",
       "      <td>Yuanlin</td>\n",
       "      <td>Taiwan</td>\n",
       "      <td>0</td>\n",
       "      <td>me</td>\n",
       "    </tr>\n",
       "    <tr>\n",
       "      <th>4</th>\n",
       "      <td>r2cs2450hsvb</td>\n",
       "      <td>14/12/24</td>\n",
       "      <td>food panda</td>\n",
       "      <td>chicken fried rice</td>\n",
       "      <td>food</td>\n",
       "      <td>1</td>\n",
       "      <td>115</td>\n",
       "      <td>0</td>\n",
       "      <td>no</td>\n",
       "      <td>0</td>\n",
       "      <td>117</td>\n",
       "      <td>credit card</td>\n",
       "      <td>delivered</td>\n",
       "      <td>14/12/24</td>\n",
       "      <td>56, Chenggong E Rd, Changhua County, 510</td>\n",
       "      <td>Yuanlin</td>\n",
       "      <td>Taiwan</td>\n",
       "      <td>0</td>\n",
       "      <td>me</td>\n",
       "    </tr>\n",
       "  </tbody>\n",
       "</table>\n",
       "</div>"
      ],
      "text/plain": [
       "       Order ID Purchase Date    platform  \\\n",
       "0  p7yo25136g66       29/3/25  food panda   \n",
       "1  po6u2501tjvc        5/1/25  food panda   \n",
       "2  uad22451s19m      21/12/24  food panda   \n",
       "3  uad22451s19m      21/12/24  food panda   \n",
       "4  r2cs2450hsvb      14/12/24  food panda   \n",
       "\n",
       "                                  items name  Category Quantity Unit-price  \\\n",
       "0                            beef fried rice      food        1        115   \n",
       "1             braised beef noodle soup combo      food        1        245   \n",
       "2  Local Taiwanese roasted pork sandwich set      food        1        185   \n",
       "3      cheese bombed roast pork sandwich set      food        1        259   \n",
       "4                         chicken fried rice      food        1        115   \n",
       "\n",
       "  shipping cost Discount apllied discount amount  total price Payment method  \\\n",
       "0            31               no               0          146    credit card   \n",
       "1            23               no               0          268    credit card   \n",
       "2             0              yes               5          185    credit card   \n",
       "3             0              yes               5          254    credit card   \n",
       "4             0               no               0          117    credit card   \n",
       "\n",
       "      status delivery date                          shipping address     City  \\\n",
       "0  delivered       29/3/25  56, Chenggong E Rd, Changhua County, 510  Yuanlin   \n",
       "1  delivered        5/1/25  56, Chenggong E Rd, Changhua County, 510  Yuanlin   \n",
       "2  delivered      21/12/24  56, Chenggong E Rd, Changhua County, 510  Yuanlin   \n",
       "3  delivered      21/12/24  56, Chenggong E Rd, Changhua County, 510  Yuanlin   \n",
       "4  delivered      14/12/24  56, Chenggong E Rd, Changhua County, 510  Yuanlin   \n",
       "\n",
       "  Country return/refund order by  \n",
       "0  Taiwan             0       me  \n",
       "1  Taiwan             0       me  \n",
       "2  Taiwan             0       me  \n",
       "3  Taiwan             0       me  \n",
       "4  Taiwan             0       me  "
      ]
     },
     "execution_count": 3,
     "metadata": {},
     "output_type": "execute_result"
    }
   ],
   "source": [
    "df.head()"
   ]
  },
  {
   "cell_type": "code",
   "execution_count": 4,
   "id": "fd98c723",
   "metadata": {},
   "outputs": [
    {
     "data": {
      "application/vnd.microsoft.datawrangler.viewer.v0+json": {
       "columns": [
        {
         "name": "index",
         "rawType": "int64",
         "type": "integer"
        },
        {
         "name": "Order ID",
         "rawType": "object",
         "type": "string"
        },
        {
         "name": "Purchase Date",
         "rawType": "object",
         "type": "string"
        },
        {
         "name": "platform",
         "rawType": "object",
         "type": "string"
        },
        {
         "name": "items name",
         "rawType": "object",
         "type": "string"
        },
        {
         "name": " Category",
         "rawType": "object",
         "type": "string"
        },
        {
         "name": "Quantity",
         "rawType": "object",
         "type": "string"
        },
        {
         "name": "Unit-price",
         "rawType": "object",
         "type": "string"
        },
        {
         "name": "shipping cost",
         "rawType": "object",
         "type": "string"
        },
        {
         "name": "Discount apllied",
         "rawType": "object",
         "type": "string"
        },
        {
         "name": "discount amount",
         "rawType": "object",
         "type": "string"
        },
        {
         "name": " total price",
         "rawType": "object",
         "type": "string"
        },
        {
         "name": "Payment method",
         "rawType": "object",
         "type": "string"
        },
        {
         "name": "status",
         "rawType": "object",
         "type": "string"
        },
        {
         "name": "delivery date",
         "rawType": "object",
         "type": "string"
        },
        {
         "name": "shipping address",
         "rawType": "object",
         "type": "string"
        },
        {
         "name": "City",
         "rawType": "object",
         "type": "string"
        },
        {
         "name": "Country",
         "rawType": "object",
         "type": "string"
        },
        {
         "name": "return/refund",
         "rawType": "object",
         "type": "string"
        },
        {
         "name": "order by",
         "rawType": "object",
         "type": "string"
        }
       ],
       "ref": "849681a8-2795-4a72-bfc7-7ea91b66223c",
       "rows": [
        [
         "1514",
         "112-2090574-5747442",
         "8/4/25",
         "Amazon",
         "Shape & Color Sorting Montessori Toys for Toddlers 1-3, Soft Silicone Sensory Toys, Preschool Learning Activities Matching Game, Educational Toy for Fine Motor Skills, Travel Gift for Boys and Girls",
         "baby supplies",
         "1",
         "433",
         "209",
         "yes",
         "161",
         "481",
         "credit card",
         "delivered",
         "16/4/25",
         "56, Chenggong E Rd, Changhua County, 510",
         "Yuanlin",
         "Taiwan",
         "0",
         "me"
        ],
        [
         "1515",
         "112-2090574-5747442",
         "8/4/25",
         "Amazon",
         "Yetonamr Montessori Toys for 1 2 3 Years Old Boys Girls Birthday Gifts, Wooden Sensory Toys for Ages 2-4 Kids Baby, Toddler Easter Basket Stuffers Learning Toy Activities Puzzles Ages 1-3",
         "baby supplies",
         "1",
         "270",
         "209",
         "yes",
         "161",
         "318",
         "credit card",
         "delivered",
         "16/4/25",
         "56, Chenggong E Rd, Changhua County, 510",
         "Yuanlin",
         "Taiwan",
         "0",
         "me"
        ],
        [
         "1516",
         "112-2090574-5747442",
         "8/4/25",
         "Amazon",
         "Zeoddler Alphabet Puzzles, Wooden Puzzles for Toddlers, ABC Shape Puzzles for Kids, Preschool Learning Activities, Gift for Girls Boys",
         "baby supplies",
         "1",
         "180",
         "209",
         "yes",
         "161",
         "228",
         "credit card",
         "delivered",
         "16/4/25",
         "56, Chenggong E Rd, Changhua County, 510",
         "Yuanlin",
         "Taiwan",
         "0",
         "me"
        ],
        [
         "1517",
         "2,46092E+14",
         "29/4/20",
         "Lazada",
         "Danux Wireless Bluetooth Remote Game Joystick For Android Universal",
         "Entertainment",
         "1",
         "47",
         "11",
         "no",
         "0",
         "58",
         "cash on delivery",
         "returned",
         "8/5/20",
         "Trường Đại học Ngoại ngữ, Dịch Vọng Hậu, Cầu Giấy",
         "Ha Noi",
         "Vietnam",
         "47",
         "me"
        ],
        [
         "1518",
         "240526C4DQ1XGQ",
         "26/5/24",
         "Shopee",
         "Hongjiayuan latest 5G dual-band five-antenna monitor one-year warranty Taiwan company goods smart tracking camera network monitoring monitor WIFI monitor camera",
         "Electronic",
         "1",
         "699",
         "45",
         "yes",
         "45",
         "699",
         "credit card",
         "returned",
         "28/5/24",
         "56, Chenggong E Rd, Changhua County, 510",
         "Yuanlin",
         "Taiwan",
         "699",
         "me"
        ]
       ],
       "shape": {
        "columns": 19,
        "rows": 5
       }
      },
      "text/html": [
       "<div>\n",
       "<style scoped>\n",
       "    .dataframe tbody tr th:only-of-type {\n",
       "        vertical-align: middle;\n",
       "    }\n",
       "\n",
       "    .dataframe tbody tr th {\n",
       "        vertical-align: top;\n",
       "    }\n",
       "\n",
       "    .dataframe thead th {\n",
       "        text-align: right;\n",
       "    }\n",
       "</style>\n",
       "<table border=\"1\" class=\"dataframe\">\n",
       "  <thead>\n",
       "    <tr style=\"text-align: right;\">\n",
       "      <th></th>\n",
       "      <th>Order ID</th>\n",
       "      <th>Purchase Date</th>\n",
       "      <th>platform</th>\n",
       "      <th>items name</th>\n",
       "      <th>Category</th>\n",
       "      <th>Quantity</th>\n",
       "      <th>Unit-price</th>\n",
       "      <th>shipping cost</th>\n",
       "      <th>Discount apllied</th>\n",
       "      <th>discount amount</th>\n",
       "      <th>total price</th>\n",
       "      <th>Payment method</th>\n",
       "      <th>status</th>\n",
       "      <th>delivery date</th>\n",
       "      <th>shipping address</th>\n",
       "      <th>City</th>\n",
       "      <th>Country</th>\n",
       "      <th>return/refund</th>\n",
       "      <th>order by</th>\n",
       "    </tr>\n",
       "  </thead>\n",
       "  <tbody>\n",
       "    <tr>\n",
       "      <th>1514</th>\n",
       "      <td>112-2090574-5747442</td>\n",
       "      <td>8/4/25</td>\n",
       "      <td>Amazon</td>\n",
       "      <td>Shape &amp; Color Sorting Montessori Toys for Todd...</td>\n",
       "      <td>baby supplies</td>\n",
       "      <td>1</td>\n",
       "      <td>433</td>\n",
       "      <td>209</td>\n",
       "      <td>yes</td>\n",
       "      <td>161</td>\n",
       "      <td>481</td>\n",
       "      <td>credit card</td>\n",
       "      <td>delivered</td>\n",
       "      <td>16/4/25</td>\n",
       "      <td>56, Chenggong E Rd, Changhua County, 510</td>\n",
       "      <td>Yuanlin</td>\n",
       "      <td>Taiwan</td>\n",
       "      <td>0</td>\n",
       "      <td>me</td>\n",
       "    </tr>\n",
       "    <tr>\n",
       "      <th>1515</th>\n",
       "      <td>112-2090574-5747442</td>\n",
       "      <td>8/4/25</td>\n",
       "      <td>Amazon</td>\n",
       "      <td>Yetonamr Montessori Toys for 1 2 3 Years Old B...</td>\n",
       "      <td>baby supplies</td>\n",
       "      <td>1</td>\n",
       "      <td>270</td>\n",
       "      <td>209</td>\n",
       "      <td>yes</td>\n",
       "      <td>161</td>\n",
       "      <td>318</td>\n",
       "      <td>credit card</td>\n",
       "      <td>delivered</td>\n",
       "      <td>16/4/25</td>\n",
       "      <td>56, Chenggong E Rd, Changhua County, 510</td>\n",
       "      <td>Yuanlin</td>\n",
       "      <td>Taiwan</td>\n",
       "      <td>0</td>\n",
       "      <td>me</td>\n",
       "    </tr>\n",
       "    <tr>\n",
       "      <th>1516</th>\n",
       "      <td>112-2090574-5747442</td>\n",
       "      <td>8/4/25</td>\n",
       "      <td>Amazon</td>\n",
       "      <td>Zeoddler Alphabet Puzzles, Wooden Puzzles for ...</td>\n",
       "      <td>baby supplies</td>\n",
       "      <td>1</td>\n",
       "      <td>180</td>\n",
       "      <td>209</td>\n",
       "      <td>yes</td>\n",
       "      <td>161</td>\n",
       "      <td>228</td>\n",
       "      <td>credit card</td>\n",
       "      <td>delivered</td>\n",
       "      <td>16/4/25</td>\n",
       "      <td>56, Chenggong E Rd, Changhua County, 510</td>\n",
       "      <td>Yuanlin</td>\n",
       "      <td>Taiwan</td>\n",
       "      <td>0</td>\n",
       "      <td>me</td>\n",
       "    </tr>\n",
       "    <tr>\n",
       "      <th>1517</th>\n",
       "      <td>2,46092E+14</td>\n",
       "      <td>29/4/20</td>\n",
       "      <td>Lazada</td>\n",
       "      <td>Danux Wireless Bluetooth Remote Game Joystick ...</td>\n",
       "      <td>Entertainment</td>\n",
       "      <td>1</td>\n",
       "      <td>47</td>\n",
       "      <td>11</td>\n",
       "      <td>no</td>\n",
       "      <td>0</td>\n",
       "      <td>58</td>\n",
       "      <td>cash on delivery</td>\n",
       "      <td>returned</td>\n",
       "      <td>8/5/20</td>\n",
       "      <td>Trường Đại học Ngoại ngữ, Dịch Vọng Hậu, Cầu Giấy</td>\n",
       "      <td>Ha Noi</td>\n",
       "      <td>Vietnam</td>\n",
       "      <td>47</td>\n",
       "      <td>me</td>\n",
       "    </tr>\n",
       "    <tr>\n",
       "      <th>1518</th>\n",
       "      <td>240526C4DQ1XGQ</td>\n",
       "      <td>26/5/24</td>\n",
       "      <td>Shopee</td>\n",
       "      <td>Hongjiayuan latest 5G dual-band five-antenna m...</td>\n",
       "      <td>Electronic</td>\n",
       "      <td>1</td>\n",
       "      <td>699</td>\n",
       "      <td>45</td>\n",
       "      <td>yes</td>\n",
       "      <td>45</td>\n",
       "      <td>699</td>\n",
       "      <td>credit card</td>\n",
       "      <td>returned</td>\n",
       "      <td>28/5/24</td>\n",
       "      <td>56, Chenggong E Rd, Changhua County, 510</td>\n",
       "      <td>Yuanlin</td>\n",
       "      <td>Taiwan</td>\n",
       "      <td>699</td>\n",
       "      <td>me</td>\n",
       "    </tr>\n",
       "  </tbody>\n",
       "</table>\n",
       "</div>"
      ],
      "text/plain": [
       "                 Order ID Purchase Date platform  \\\n",
       "1514  112-2090574-5747442        8/4/25   Amazon   \n",
       "1515  112-2090574-5747442        8/4/25   Amazon   \n",
       "1516  112-2090574-5747442        8/4/25   Amazon   \n",
       "1517          2,46092E+14       29/4/20   Lazada   \n",
       "1518       240526C4DQ1XGQ       26/5/24   Shopee   \n",
       "\n",
       "                                             items name       Category  \\\n",
       "1514  Shape & Color Sorting Montessori Toys for Todd...  baby supplies   \n",
       "1515  Yetonamr Montessori Toys for 1 2 3 Years Old B...  baby supplies   \n",
       "1516  Zeoddler Alphabet Puzzles, Wooden Puzzles for ...  baby supplies   \n",
       "1517  Danux Wireless Bluetooth Remote Game Joystick ...  Entertainment   \n",
       "1518  Hongjiayuan latest 5G dual-band five-antenna m...     Electronic   \n",
       "\n",
       "     Quantity Unit-price shipping cost Discount apllied discount amount  \\\n",
       "1514        1        433           209              yes             161   \n",
       "1515        1        270           209              yes             161   \n",
       "1516        1        180           209              yes             161   \n",
       "1517        1         47            11               no               0   \n",
       "1518        1        699            45              yes              45   \n",
       "\n",
       "      total price    Payment method     status delivery date  \\\n",
       "1514          481       credit card  delivered       16/4/25   \n",
       "1515          318       credit card  delivered       16/4/25   \n",
       "1516          228       credit card  delivered       16/4/25   \n",
       "1517           58  cash on delivery   returned        8/5/20   \n",
       "1518          699       credit card   returned       28/5/24   \n",
       "\n",
       "                                       shipping address     City  Country  \\\n",
       "1514           56, Chenggong E Rd, Changhua County, 510  Yuanlin   Taiwan   \n",
       "1515           56, Chenggong E Rd, Changhua County, 510  Yuanlin   Taiwan   \n",
       "1516           56, Chenggong E Rd, Changhua County, 510  Yuanlin   Taiwan   \n",
       "1517  Trường Đại học Ngoại ngữ, Dịch Vọng Hậu, Cầu Giấy   Ha Noi  Vietnam   \n",
       "1518           56, Chenggong E Rd, Changhua County, 510  Yuanlin   Taiwan   \n",
       "\n",
       "     return/refund order by  \n",
       "1514             0       me  \n",
       "1515             0       me  \n",
       "1516             0       me  \n",
       "1517            47       me  \n",
       "1518           699       me  "
      ]
     },
     "execution_count": 4,
     "metadata": {},
     "output_type": "execute_result"
    }
   ],
   "source": [
    "df.tail()"
   ]
  },
  {
   "cell_type": "code",
   "execution_count": 5,
   "id": "e06212bc",
   "metadata": {},
   "outputs": [
    {
     "data": {
      "text/plain": [
       "(1519, 19)"
      ]
     },
     "execution_count": 5,
     "metadata": {},
     "output_type": "execute_result"
    }
   ],
   "source": [
    "df.shape\n"
   ]
  },
  {
   "cell_type": "code",
   "execution_count": 6,
   "id": "a944fe82",
   "metadata": {},
   "outputs": [
    {
     "data": {
      "text/plain": [
       "Index(['Order ID', 'Purchase Date', 'platform', 'items name', ' Category',\n",
       "       'Quantity', 'Unit-price', 'shipping cost', 'Discount apllied',\n",
       "       'discount amount', ' total price', 'Payment method', 'status',\n",
       "       'delivery date', 'shipping address', 'City', 'Country', 'return/refund',\n",
       "       'order by'],\n",
       "      dtype='object')"
      ]
     },
     "execution_count": 6,
     "metadata": {},
     "output_type": "execute_result"
    }
   ],
   "source": [
    "df.columns"
   ]
  },
  {
   "cell_type": "code",
   "execution_count": 7,
   "id": "ef5d7359",
   "metadata": {},
   "outputs": [
    {
     "name": "stdout",
     "output_type": "stream",
     "text": [
      "<class 'pandas.core.frame.DataFrame'>\n",
      "RangeIndex: 1519 entries, 0 to 1518\n",
      "Data columns (total 19 columns):\n",
      " #   Column            Non-Null Count  Dtype \n",
      "---  ------            --------------  ----- \n",
      " 0   Order ID          1519 non-null   object\n",
      " 1   Purchase Date     1519 non-null   object\n",
      " 2   platform          1519 non-null   object\n",
      " 3   items name        1519 non-null   object\n",
      " 4    Category         1519 non-null   object\n",
      " 5   Quantity          1519 non-null   object\n",
      " 6   Unit-price        1519 non-null   object\n",
      " 7   shipping cost     1519 non-null   object\n",
      " 8   Discount apllied  1519 non-null   object\n",
      " 9   discount amount   1519 non-null   object\n",
      " 10   total price      1519 non-null   object\n",
      " 11  Payment method    1519 non-null   object\n",
      " 12  status            1519 non-null   object\n",
      " 13  delivery date     1519 non-null   object\n",
      " 14  shipping address  1519 non-null   object\n",
      " 15  City              1519 non-null   object\n",
      " 16  Country           1519 non-null   object\n",
      " 17  return/refund     1519 non-null   object\n",
      " 18  order by          1519 non-null   object\n",
      "dtypes: object(19)\n",
      "memory usage: 225.6+ KB\n"
     ]
    }
   ],
   "source": [
    "df.info()"
   ]
  },
  {
   "cell_type": "code",
   "execution_count": 8,
   "id": "02f7b137",
   "metadata": {},
   "outputs": [
    {
     "data": {
      "application/vnd.microsoft.datawrangler.viewer.v0+json": {
       "columns": [
        {
         "name": "index",
         "rawType": "object",
         "type": "string"
        },
        {
         "name": "0",
         "rawType": "int64",
         "type": "integer"
        }
       ],
       "ref": "75c0d092-e310-43b6-ba19-4ff937c6c6b7",
       "rows": [
        [
         "Order ID",
         "0"
        ],
        [
         "Purchase Date",
         "0"
        ],
        [
         "platform",
         "0"
        ],
        [
         "items name",
         "0"
        ],
        [
         " Category",
         "0"
        ],
        [
         "Quantity",
         "0"
        ],
        [
         "Unit-price",
         "0"
        ],
        [
         "shipping cost",
         "0"
        ],
        [
         "Discount apllied",
         "0"
        ],
        [
         "discount amount",
         "0"
        ],
        [
         " total price",
         "0"
        ],
        [
         "Payment method",
         "0"
        ],
        [
         "status",
         "0"
        ],
        [
         "delivery date",
         "0"
        ],
        [
         "shipping address",
         "0"
        ],
        [
         "City",
         "0"
        ],
        [
         "Country",
         "0"
        ],
        [
         "return/refund",
         "0"
        ],
        [
         "order by",
         "0"
        ]
       ],
       "shape": {
        "columns": 1,
        "rows": 19
       }
      },
      "text/plain": [
       "Order ID            0\n",
       "Purchase Date       0\n",
       "platform            0\n",
       "items name          0\n",
       " Category           0\n",
       "Quantity            0\n",
       "Unit-price          0\n",
       "shipping cost       0\n",
       "Discount apllied    0\n",
       "discount amount     0\n",
       " total price        0\n",
       "Payment method      0\n",
       "status              0\n",
       "delivery date       0\n",
       "shipping address    0\n",
       "City                0\n",
       "Country             0\n",
       "return/refund       0\n",
       "order by            0\n",
       "dtype: int64"
      ]
     },
     "execution_count": 8,
     "metadata": {},
     "output_type": "execute_result"
    }
   ],
   "source": [
    "df.isnull().sum()"
   ]
  },
  {
   "cell_type": "code",
   "execution_count": 9,
   "id": "ed00d21f",
   "metadata": {},
   "outputs": [
    {
     "data": {
      "application/vnd.microsoft.datawrangler.viewer.v0+json": {
       "columns": [
        {
         "name": "index",
         "rawType": "object",
         "type": "string"
        },
        {
         "name": "Order ID",
         "rawType": "object",
         "type": "unknown"
        },
        {
         "name": "Purchase Date",
         "rawType": "object",
         "type": "unknown"
        },
        {
         "name": "platform",
         "rawType": "object",
         "type": "unknown"
        },
        {
         "name": "items name",
         "rawType": "object",
         "type": "unknown"
        },
        {
         "name": " Category",
         "rawType": "object",
         "type": "unknown"
        },
        {
         "name": "Quantity",
         "rawType": "object",
         "type": "unknown"
        },
        {
         "name": "Unit-price",
         "rawType": "object",
         "type": "unknown"
        },
        {
         "name": "shipping cost",
         "rawType": "object",
         "type": "unknown"
        },
        {
         "name": "Discount apllied",
         "rawType": "object",
         "type": "unknown"
        },
        {
         "name": "discount amount",
         "rawType": "object",
         "type": "unknown"
        },
        {
         "name": " total price",
         "rawType": "object",
         "type": "unknown"
        },
        {
         "name": "Payment method",
         "rawType": "object",
         "type": "unknown"
        },
        {
         "name": "status",
         "rawType": "object",
         "type": "unknown"
        },
        {
         "name": "delivery date",
         "rawType": "object",
         "type": "unknown"
        },
        {
         "name": "shipping address",
         "rawType": "object",
         "type": "unknown"
        },
        {
         "name": "City",
         "rawType": "object",
         "type": "unknown"
        },
        {
         "name": "Country",
         "rawType": "object",
         "type": "unknown"
        },
        {
         "name": "return/refund",
         "rawType": "object",
         "type": "unknown"
        },
        {
         "name": "order by",
         "rawType": "object",
         "type": "unknown"
        }
       ],
       "ref": "e925aecf-8799-40a2-9804-1a59e1bcfa3d",
       "rows": [
        [
         "count",
         "1519",
         "1519",
         "1519",
         "1519",
         "1519",
         "1519",
         "1519",
         "1519",
         "1519",
         "1519",
         "1519",
         "1519",
         "1519",
         "1519",
         "1519",
         "1519",
         "1519",
         "1519",
         "1519"
        ],
        [
         "unique",
         "778",
         "490",
         "11",
         "1329",
         "29",
         "10",
         "391",
         "77",
         "3",
         "96",
         "434",
         "5",
         "2",
         "552",
         "16",
         "7",
         "2",
         "4",
         "2"
        ],
        [
         "top",
         "283a4",
         "3/1/25",
         "Food panda",
         "Chicken skin",
         "food",
         "1",
         "35",
         "0",
         "yes",
         "0",
         "35",
         "credit card",
         "delivered",
         "15/8/23",
         "56, Chenggong E Rd, Changhua County, 510",
         "Yuanlin",
         "Taiwan",
         "0",
         "wife"
        ],
        [
         "freq",
         "19",
         "23",
         "555",
         "9",
         "574",
         "1359",
         "52",
         "249",
         "846",
         "675",
         "29",
         "1206",
         "1517",
         "19",
         "684",
         "1010",
         "1142",
         "1516",
         "892"
        ]
       ],
       "shape": {
        "columns": 19,
        "rows": 4
       }
      },
      "text/html": [
       "<div>\n",
       "<style scoped>\n",
       "    .dataframe tbody tr th:only-of-type {\n",
       "        vertical-align: middle;\n",
       "    }\n",
       "\n",
       "    .dataframe tbody tr th {\n",
       "        vertical-align: top;\n",
       "    }\n",
       "\n",
       "    .dataframe thead th {\n",
       "        text-align: right;\n",
       "    }\n",
       "</style>\n",
       "<table border=\"1\" class=\"dataframe\">\n",
       "  <thead>\n",
       "    <tr style=\"text-align: right;\">\n",
       "      <th></th>\n",
       "      <th>Order ID</th>\n",
       "      <th>Purchase Date</th>\n",
       "      <th>platform</th>\n",
       "      <th>items name</th>\n",
       "      <th>Category</th>\n",
       "      <th>Quantity</th>\n",
       "      <th>Unit-price</th>\n",
       "      <th>shipping cost</th>\n",
       "      <th>Discount apllied</th>\n",
       "      <th>discount amount</th>\n",
       "      <th>total price</th>\n",
       "      <th>Payment method</th>\n",
       "      <th>status</th>\n",
       "      <th>delivery date</th>\n",
       "      <th>shipping address</th>\n",
       "      <th>City</th>\n",
       "      <th>Country</th>\n",
       "      <th>return/refund</th>\n",
       "      <th>order by</th>\n",
       "    </tr>\n",
       "  </thead>\n",
       "  <tbody>\n",
       "    <tr>\n",
       "      <th>count</th>\n",
       "      <td>1519</td>\n",
       "      <td>1519</td>\n",
       "      <td>1519</td>\n",
       "      <td>1519</td>\n",
       "      <td>1519</td>\n",
       "      <td>1519</td>\n",
       "      <td>1519</td>\n",
       "      <td>1519</td>\n",
       "      <td>1519</td>\n",
       "      <td>1519</td>\n",
       "      <td>1519</td>\n",
       "      <td>1519</td>\n",
       "      <td>1519</td>\n",
       "      <td>1519</td>\n",
       "      <td>1519</td>\n",
       "      <td>1519</td>\n",
       "      <td>1519</td>\n",
       "      <td>1519</td>\n",
       "      <td>1519</td>\n",
       "    </tr>\n",
       "    <tr>\n",
       "      <th>unique</th>\n",
       "      <td>778</td>\n",
       "      <td>490</td>\n",
       "      <td>11</td>\n",
       "      <td>1329</td>\n",
       "      <td>29</td>\n",
       "      <td>10</td>\n",
       "      <td>391</td>\n",
       "      <td>77</td>\n",
       "      <td>3</td>\n",
       "      <td>96</td>\n",
       "      <td>434</td>\n",
       "      <td>5</td>\n",
       "      <td>2</td>\n",
       "      <td>552</td>\n",
       "      <td>16</td>\n",
       "      <td>7</td>\n",
       "      <td>2</td>\n",
       "      <td>4</td>\n",
       "      <td>2</td>\n",
       "    </tr>\n",
       "    <tr>\n",
       "      <th>top</th>\n",
       "      <td>283a4</td>\n",
       "      <td>3/1/25</td>\n",
       "      <td>Food panda</td>\n",
       "      <td>Chicken skin</td>\n",
       "      <td>food</td>\n",
       "      <td>1</td>\n",
       "      <td>35</td>\n",
       "      <td>0</td>\n",
       "      <td>yes</td>\n",
       "      <td>0</td>\n",
       "      <td>35</td>\n",
       "      <td>credit card</td>\n",
       "      <td>delivered</td>\n",
       "      <td>15/8/23</td>\n",
       "      <td>56, Chenggong E Rd, Changhua County, 510</td>\n",
       "      <td>Yuanlin</td>\n",
       "      <td>Taiwan</td>\n",
       "      <td>0</td>\n",
       "      <td>wife</td>\n",
       "    </tr>\n",
       "    <tr>\n",
       "      <th>freq</th>\n",
       "      <td>19</td>\n",
       "      <td>23</td>\n",
       "      <td>555</td>\n",
       "      <td>9</td>\n",
       "      <td>574</td>\n",
       "      <td>1359</td>\n",
       "      <td>52</td>\n",
       "      <td>249</td>\n",
       "      <td>846</td>\n",
       "      <td>675</td>\n",
       "      <td>29</td>\n",
       "      <td>1206</td>\n",
       "      <td>1517</td>\n",
       "      <td>19</td>\n",
       "      <td>684</td>\n",
       "      <td>1010</td>\n",
       "      <td>1142</td>\n",
       "      <td>1516</td>\n",
       "      <td>892</td>\n",
       "    </tr>\n",
       "  </tbody>\n",
       "</table>\n",
       "</div>"
      ],
      "text/plain": [
       "       Order ID Purchase Date    platform    items name  Category Quantity  \\\n",
       "count      1519          1519        1519          1519      1519     1519   \n",
       "unique      778           490          11          1329        29       10   \n",
       "top       283a4        3/1/25  Food panda  Chicken skin      food        1   \n",
       "freq         19            23         555             9       574     1359   \n",
       "\n",
       "       Unit-price shipping cost Discount apllied discount amount  total price  \\\n",
       "count        1519          1519             1519            1519         1519   \n",
       "unique        391            77                3              96          434   \n",
       "top            35             0              yes               0           35   \n",
       "freq           52           249              846             675           29   \n",
       "\n",
       "       Payment method     status delivery date  \\\n",
       "count            1519       1519          1519   \n",
       "unique              5          2           552   \n",
       "top       credit card  delivered       15/8/23   \n",
       "freq             1206       1517            19   \n",
       "\n",
       "                                shipping address     City Country  \\\n",
       "count                                       1519     1519    1519   \n",
       "unique                                        16        7       2   \n",
       "top     56, Chenggong E Rd, Changhua County, 510  Yuanlin  Taiwan   \n",
       "freq                                         684     1010    1142   \n",
       "\n",
       "       return/refund order by  \n",
       "count           1519     1519  \n",
       "unique             4        2  \n",
       "top                0     wife  \n",
       "freq            1516      892  "
      ]
     },
     "execution_count": 9,
     "metadata": {},
     "output_type": "execute_result"
    }
   ],
   "source": [
    "df.describe()"
   ]
  },
  {
   "cell_type": "code",
   "execution_count": 10,
   "id": "3df19c3e",
   "metadata": {},
   "outputs": [
    {
     "data": {
      "text/plain": [
       "np.int64(0)"
      ]
     },
     "execution_count": 10,
     "metadata": {},
     "output_type": "execute_result"
    }
   ],
   "source": [
    "df.duplicated().sum() "
   ]
  },
  {
   "cell_type": "code",
   "execution_count": 11,
   "id": "fd5ec571",
   "metadata": {},
   "outputs": [
    {
     "data": {
      "application/vnd.microsoft.datawrangler.viewer.v0+json": {
       "columns": [
        {
         "name": "index",
         "rawType": "object",
         "type": "string"
        },
        {
         "name": "0",
         "rawType": "int64",
         "type": "integer"
        }
       ],
       "ref": "eb3a065d-2322-4e37-8125-aca5fcdec79e",
       "rows": [
        [
         "Order ID",
         "778"
        ],
        [
         "Purchase Date",
         "490"
        ],
        [
         "platform",
         "11"
        ],
        [
         "items name",
         "1329"
        ],
        [
         " Category",
         "29"
        ],
        [
         "Quantity",
         "10"
        ],
        [
         "Unit-price",
         "391"
        ],
        [
         "shipping cost",
         "77"
        ],
        [
         "Discount apllied",
         "3"
        ],
        [
         "discount amount",
         "96"
        ],
        [
         " total price",
         "434"
        ],
        [
         "Payment method",
         "5"
        ],
        [
         "status",
         "2"
        ],
        [
         "delivery date",
         "552"
        ],
        [
         "shipping address",
         "16"
        ],
        [
         "City",
         "7"
        ],
        [
         "Country",
         "2"
        ],
        [
         "return/refund",
         "4"
        ],
        [
         "order by",
         "2"
        ]
       ],
       "shape": {
        "columns": 1,
        "rows": 19
       }
      },
      "text/plain": [
       "Order ID             778\n",
       "Purchase Date        490\n",
       "platform              11\n",
       "items name          1329\n",
       " Category             29\n",
       "Quantity              10\n",
       "Unit-price           391\n",
       "shipping cost         77\n",
       "Discount apllied       3\n",
       "discount amount       96\n",
       " total price         434\n",
       "Payment method         5\n",
       "status                 2\n",
       "delivery date        552\n",
       "shipping address      16\n",
       "City                   7\n",
       "Country                2\n",
       "return/refund          4\n",
       "order by               2\n",
       "dtype: int64"
      ]
     },
     "execution_count": 11,
     "metadata": {},
     "output_type": "execute_result"
    }
   ],
   "source": [
    "df.nunique()    "
   ]
  },
  {
   "cell_type": "markdown",
   "id": "6a8a8835",
   "metadata": {},
   "source": [
    "#### After checking the unique values I have noticed few issue with column platform and category which has way more values than normal. (thing we need to clean later)"
   ]
  },
  {
   "cell_type": "markdown",
   "id": "15806db8",
   "metadata": {},
   "source": [
    "## Data Cleaning"
   ]
  },
  {
   "cell_type": "code",
   "execution_count": 12,
   "id": "e7397e8f",
   "metadata": {},
   "outputs": [],
   "source": [
    "# clean the column names\n",
    "df.columns = df.columns.str.strip().str.lower().str.replace(' ', '_').str.replace('-', '_')"
   ]
  },
  {
   "cell_type": "code",
   "execution_count": 13,
   "id": "45255e41",
   "metadata": {},
   "outputs": [],
   "source": [
    "# convert data types\n",
    "df['purchase_date'] = pd.to_datetime(df['purchase_date'].str.strip(), format=\"%d/%m/%y\", errors=\"coerce\")\n",
    "df['delivery_date'] = pd.to_datetime(df['delivery_date'].str.strip(), format=\"%d/%m/%y\", errors=\"coerce\")\n",
    "df['quantity'] = pd.to_numeric(df['quantity'], errors='coerce')\n",
    "df['unit_price'] = pd.to_numeric(df['unit_price'], errors='coerce')\n",
    "df['shipping_cost'] = pd.to_numeric(df['shipping_cost'], errors='coerce')\n",
    "df['discount_amount'] = pd.to_numeric(df['discount_amount'], errors='coerce')\n",
    "df['total_price'] = pd.to_numeric(df['total_price'], errors='coerce')\n"
   ]
  },
  {
   "cell_type": "code",
   "execution_count": 14,
   "id": "a6f25756",
   "metadata": {},
   "outputs": [],
   "source": [
    "# feature engineering\n",
    "df['delivery_days'] = (df['delivery_date'] - df['purchase_date']).dt.days\n",
    "df['discount_used']  = df['discount_amount'] > 0\n",
    "df['order_month'] = df['purchase_date'].dt.month\n",
    "df['order_year'] = df['purchase_date'].dt.year\n",
    "df['order_month_year'] = df['purchase_date'].dt.to_period('M').astype(str)\n",
    "df['is_returned'] = df['return/refund'].astype(float).apply(lambda x: 1 if x > 0 else 0)\n"
   ]
  },
  {
   "cell_type": "markdown",
   "id": "2f184d74",
   "metadata": {},
   "source": [
    "##### after adding delivery_days column I have noticed that some delivery dates were found to be earlier than their corresponding purchase dates due to manual entry errors. Since this dataset was self-collected, the original file was reviewed and corrected to reflect accurate delivery timelines."
   ]
  },
  {
   "cell_type": "code",
   "execution_count": 15,
   "id": "d8f06e21",
   "metadata": {},
   "outputs": [
    {
     "data": {
      "application/vnd.microsoft.datawrangler.viewer.v0+json": {
       "columns": [
        {
         "name": "index",
         "rawType": "int64",
         "type": "integer"
        },
        {
         "name": "order_id",
         "rawType": "object",
         "type": "string"
        },
        {
         "name": "purchase_date",
         "rawType": "datetime64[ns]",
         "type": "datetime"
        },
        {
         "name": "platform",
         "rawType": "object",
         "type": "string"
        },
        {
         "name": "items_name",
         "rawType": "object",
         "type": "string"
        },
        {
         "name": "category",
         "rawType": "object",
         "type": "string"
        },
        {
         "name": "quantity",
         "rawType": "int64",
         "type": "integer"
        },
        {
         "name": "unit_price",
         "rawType": "int64",
         "type": "integer"
        },
        {
         "name": "shipping_cost",
         "rawType": "int64",
         "type": "integer"
        },
        {
         "name": "discount_apllied",
         "rawType": "object",
         "type": "string"
        },
        {
         "name": "discount_amount",
         "rawType": "int64",
         "type": "integer"
        },
        {
         "name": "total_price",
         "rawType": "int64",
         "type": "integer"
        },
        {
         "name": "payment_method",
         "rawType": "object",
         "type": "string"
        },
        {
         "name": "status",
         "rawType": "object",
         "type": "string"
        },
        {
         "name": "delivery_date",
         "rawType": "datetime64[ns]",
         "type": "datetime"
        },
        {
         "name": "shipping_address",
         "rawType": "object",
         "type": "string"
        },
        {
         "name": "city",
         "rawType": "object",
         "type": "string"
        },
        {
         "name": "country",
         "rawType": "object",
         "type": "string"
        },
        {
         "name": "return/refund",
         "rawType": "object",
         "type": "string"
        },
        {
         "name": "order_by",
         "rawType": "object",
         "type": "string"
        },
        {
         "name": "delivery_days",
         "rawType": "int64",
         "type": "integer"
        },
        {
         "name": "discount_used",
         "rawType": "bool",
         "type": "boolean"
        },
        {
         "name": "order_month",
         "rawType": "int32",
         "type": "integer"
        },
        {
         "name": "order_year",
         "rawType": "int32",
         "type": "integer"
        },
        {
         "name": "order_month_year",
         "rawType": "object",
         "type": "string"
        },
        {
         "name": "is_returned",
         "rawType": "int64",
         "type": "integer"
        }
       ],
       "ref": "b7870aec-9d89-4d7d-944d-97f0d20b67f0",
       "rows": [
        [
         "0",
         "p7yo25136g66",
         "2025-03-29 00:00:00",
         "food panda",
         "beef fried rice",
         "food",
         "1",
         "115",
         "31",
         "no",
         "0",
         "146",
         "credit card",
         "delivered",
         "2025-03-29 00:00:00",
         "56, Chenggong E Rd, Changhua County, 510",
         "Yuanlin",
         "Taiwan",
         "0",
         "me",
         "0",
         "False",
         "3",
         "2025",
         "2025-03",
         "0"
        ],
        [
         "1",
         "po6u2501tjvc",
         "2025-01-05 00:00:00",
         "food panda",
         "braised beef noodle soup combo",
         "food",
         "1",
         "245",
         "23",
         "no",
         "0",
         "268",
         "credit card",
         "delivered",
         "2025-01-05 00:00:00",
         "56, Chenggong E Rd, Changhua County, 510",
         "Yuanlin",
         "Taiwan",
         "0",
         "me",
         "0",
         "False",
         "1",
         "2025",
         "2025-01",
         "0"
        ],
        [
         "2",
         "uad22451s19m",
         "2024-12-21 00:00:00",
         "food panda",
         "Local Taiwanese roasted pork sandwich set",
         "food",
         "1",
         "185",
         "0",
         "yes",
         "5",
         "185",
         "credit card",
         "delivered",
         "2024-12-21 00:00:00",
         "56, Chenggong E Rd, Changhua County, 510",
         "Yuanlin",
         "Taiwan",
         "0",
         "me",
         "0",
         "True",
         "12",
         "2024",
         "2024-12",
         "0"
        ],
        [
         "3",
         "uad22451s19m",
         "2024-12-21 00:00:00",
         "food panda",
         "cheese bombed roast pork sandwich set",
         "food",
         "1",
         "259",
         "0",
         "yes",
         "5",
         "254",
         "credit card",
         "delivered",
         "2024-12-21 00:00:00",
         "56, Chenggong E Rd, Changhua County, 510",
         "Yuanlin",
         "Taiwan",
         "0",
         "me",
         "0",
         "True",
         "12",
         "2024",
         "2024-12",
         "0"
        ],
        [
         "4",
         "r2cs2450hsvb",
         "2024-12-14 00:00:00",
         "food panda",
         "chicken fried rice",
         "food",
         "1",
         "115",
         "0",
         "no",
         "0",
         "117",
         "credit card",
         "delivered",
         "2024-12-14 00:00:00",
         "56, Chenggong E Rd, Changhua County, 510",
         "Yuanlin",
         "Taiwan",
         "0",
         "me",
         "0",
         "False",
         "12",
         "2024",
         "2024-12",
         "0"
        ],
        [
         "5",
         "r2cs2450xdsn",
         "2024-12-11 00:00:00",
         "food panda",
         "chicken fried rice",
         "food",
         "1",
         "115",
         "0",
         "no",
         "0",
         "117",
         "credit card",
         "delivered",
         "2024-12-11 00:00:00",
         "56, Chenggong E Rd, Changhua County, 510",
         "Yuanlin",
         "Taiwan",
         "0",
         "me",
         "0",
         "False",
         "12",
         "2024",
         "2024-12",
         "0"
        ],
        [
         "6",
         "xmit2449mn88",
         "2024-12-06 00:00:00",
         "food panda",
         "pork and rice",
         "food",
         "1",
         "63",
         "0",
         "no",
         "0",
         "63",
         "credit card",
         "delivered",
         "2024-12-06 00:00:00",
         "56, Chenggong E Rd, Changhua County, 510",
         "Yuanlin",
         "Taiwan",
         "0",
         "me",
         "0",
         "False",
         "12",
         "2024",
         "2024-12",
         "0"
        ],
        [
         "7",
         "xmit2449mn88",
         "2024-12-06 00:00:00",
         "food panda",
         "fried egg",
         "food",
         "1",
         "21",
         "0",
         "no",
         "0",
         "21",
         "credit card",
         "delivered",
         "2024-12-06 00:00:00",
         "56, Chenggong E Rd, Changhua County, 510",
         "Yuanlin",
         "Taiwan",
         "0",
         "me",
         "0",
         "False",
         "12",
         "2024",
         "2024-12",
         "0"
        ],
        [
         "8",
         "r2cs2449gxlk",
         "2024-12-06 00:00:00",
         "food panda",
         "chicken fried rice",
         "food",
         "1",
         "115",
         "0",
         "no",
         "0",
         "117",
         "credit card",
         "delivered",
         "2024-12-06 00:00:00",
         "56, Chenggong E Rd, Changhua County, 510",
         "Yuanlin",
         "Taiwan",
         "0",
         "me",
         "0",
         "False",
         "12",
         "2024",
         "2024-12",
         "0"
        ],
        [
         "9",
         "r2cs2449gxlk",
         "2024-12-06 00:00:00",
         "food panda",
         "miso tofu soup",
         "food",
         "1",
         "35",
         "0",
         "no",
         "0",
         "35",
         "credit card",
         "delivered",
         "2024-12-06 00:00:00",
         "56, Chenggong E Rd, Changhua County, 510",
         "Yuanlin",
         "Taiwan",
         "0",
         "me",
         "0",
         "False",
         "12",
         "2024",
         "2024-12",
         "0"
        ],
        [
         "10",
         "uad22432xk2a",
         "2024-08-10 00:00:00",
         "food panda",
         "spicy radish roasted pork sandwich set",
         "food",
         "1",
         "200",
         "0",
         "yes",
         "5",
         "198",
         "credit card",
         "delivered",
         "2024-08-10 00:00:00",
         "56, Chenggong E Rd, Changhua County, 510",
         "Yuanlin",
         "Taiwan",
         "0",
         "me",
         "0",
         "True",
         "8",
         "2024",
         "2024-08",
         "0"
        ],
        [
         "11",
         "uad22432xk2a",
         "2024-08-10 00:00:00",
         "food panda",
         "pan-fried dumpling",
         "food",
         "1",
         "45",
         "0",
         "yes",
         "5",
         "42",
         "credit card",
         "delivered",
         "2024-08-10 00:00:00",
         "56, Chenggong E Rd, Changhua County, 510",
         "Yuanlin",
         "Taiwan",
         "0",
         "me",
         "0",
         "True",
         "8",
         "2024",
         "2024-08",
         "0"
        ],
        [
         "12",
         "bb73d",
         "2025-03-28 00:00:00",
         "uber eats",
         "Power XXL Cheese Shawarma",
         "food",
         "1",
         "159",
         "0",
         "yes",
         "38",
         "159",
         "credit card",
         "delivered",
         "2025-03-28 00:00:00",
         "56, Chenggong E Rd, Changhua County, 510",
         "Yuanlin",
         "Taiwan",
         "0",
         "me",
         "0",
         "True",
         "3",
         "2025",
         "2025-03",
         "0"
        ],
        [
         "13",
         "bb73d",
         "2025-03-28 00:00:00",
         "uber eats",
         "Cheese Shawarma",
         "food",
         "1",
         "90",
         "0",
         "yes",
         "19",
         "90",
         "credit card",
         "delivered",
         "2025-03-28 00:00:00",
         "56, Chenggong E Rd, Changhua County, 510",
         "Yuanlin",
         "Taiwan",
         "0",
         "me",
         "0",
         "True",
         "3",
         "2025",
         "2025-03",
         "0"
        ],
        [
         "14",
         "f9bd5",
         "2025-01-22 00:00:00",
         "uber eats",
         "Beef set meal",
         "food",
         "1",
         "160",
         "23",
         "no",
         "0",
         "183",
         "credit card",
         "delivered",
         "2025-01-22 00:00:00",
         "56, Chenggong E Rd, Changhua County, 510",
         "Yuanlin",
         "Taiwan",
         "0",
         "me",
         "0",
         "False",
         "1",
         "2025",
         "2025-01",
         "0"
        ],
        [
         "15",
         "49fee",
         "2025-01-22 00:00:00",
         "uber eats",
         "Cheese egg waffle",
         "food",
         "1",
         "75",
         "20",
         "no",
         "0",
         "95",
         "credit card",
         "delivered",
         "2025-01-22 00:00:00",
         "56, Chenggong E Rd, Changhua County, 510",
         "Yuanlin",
         "Taiwan",
         "0",
         "me",
         "0",
         "False",
         "1",
         "2025",
         "2025-01",
         "0"
        ],
        [
         "16",
         "2b2ec",
         "2025-01-22 00:00:00",
         "uber eats",
         "Classic Braised Pork Ribs",
         "food",
         "1",
         "220",
         "26",
         "yes",
         "26",
         "220",
         "credit card",
         "delivered",
         "2025-01-22 00:00:00",
         "56, Chenggong E Rd, Changhua County, 510",
         "Yuanlin",
         "Taiwan",
         "0",
         "me",
         "0",
         "True",
         "1",
         "2025",
         "2025-01",
         "0"
        ],
        [
         "17",
         "4fa2b",
         "2025-01-15 00:00:00",
         "uber eats",
         "Domino's Pizza Buy 1 small signature Pizza Get 1 Small for free",
         "food",
         "1",
         "1085",
         "85",
         "yes",
         "555",
         "615",
         "credit card",
         "delivered",
         "2025-01-15 00:00:00",
         "56, Chenggong E Rd, Changhua County, 510",
         "Yuanlin",
         "Taiwan",
         "0",
         "me",
         "0",
         "True",
         "1",
         "2025",
         "2025-01",
         "0"
        ],
        [
         "18",
         "59f20",
         "2024-12-24 00:00:00",
         "uber eats",
         "Acient style pork buns and black tea",
         "food",
         "1",
         "90",
         "19",
         "no",
         "0",
         "109",
         "credit card",
         "delivered",
         "2024-12-24 00:00:00",
         "56, Chenggong E Rd, Changhua County, 510",
         "Yuanlin",
         "Taiwan",
         "0",
         "me",
         "0",
         "False",
         "12",
         "2024",
         "2024-12",
         "0"
        ],
        [
         "19",
         "59f20",
         "2024-12-24 00:00:00",
         "uber eats",
         "Thai-style fried pork buns with black tea",
         "food",
         "1",
         "90",
         "19",
         "no",
         "0",
         "109",
         "credit card",
         "delivered",
         "2024-12-24 00:00:00",
         "56, Chenggong E Rd, Changhua County, 510",
         "Yuanlin",
         "Taiwan",
         "0",
         "me",
         "0",
         "False",
         "12",
         "2024",
         "2024-12",
         "0"
        ],
        [
         "20",
         "1f9ac",
         "2024-11-20 00:00:00",
         "uber eats",
         "KFC Original egg tart gift box 25% off for 2 boxes",
         "food",
         "1",
         "528",
         "41",
         "yes",
         "67",
         "399",
         "credit card",
         "delivered",
         "2024-11-20 00:00:00",
         "56, Chenggong E Rd, Changhua County, 510",
         "Yuanlin",
         "Taiwan",
         "0",
         "me",
         "0",
         "True",
         "11",
         "2024",
         "2024-11",
         "0"
        ],
        [
         "21",
         "382f0",
         "2024-11-16 00:00:00",
         "uber eats",
         "Flower sauce meat and egg toast",
         "food",
         "1",
         "90",
         "9",
         "yes",
         "9",
         "90",
         "credit card",
         "delivered",
         "2024-11-16 00:00:00",
         "56, Chenggong E Rd, Changhua County, 510",
         "Yuanlin",
         "Taiwan",
         "0",
         "me",
         "0",
         "True",
         "11",
         "2024",
         "2024-11",
         "0"
        ],
        [
         "22",
         "382f0",
         "2024-11-16 00:00:00",
         "uber eats",
         "Kimchi meat and egg toast",
         "food",
         "1",
         "95",
         "11",
         "yes",
         "11",
         "95",
         "credit card",
         "delivered",
         "2024-11-16 00:00:00",
         "56, Chenggong E Rd, Changhua County, 510",
         "Yuanlin",
         "Taiwan",
         "0",
         "me",
         "0",
         "True",
         "11",
         "2024",
         "2024-11",
         "0"
        ],
        [
         "23",
         "382f0",
         "2024-11-16 00:00:00",
         "uber eats",
         "Double cheese omelette",
         "food",
         "1",
         "75",
         "8",
         "yes",
         "8",
         "75",
         "credit card",
         "delivered",
         "2024-11-16 00:00:00",
         "56, Chenggong E Rd, Changhua County, 510",
         "Yuanlin",
         "Taiwan",
         "0",
         "me",
         "0",
         "True",
         "11",
         "2024",
         "2024-11",
         "0"
        ],
        [
         "24",
         "f4851",
         "2024-11-16 00:00:00",
         "uber eats",
         "Uni-president Papaya Milk 478ml",
         "food",
         "2",
         "58",
         "9",
         "no",
         "0",
         "65",
         "credit card",
         "delivered",
         "2024-11-16 00:00:00",
         "56, Chenggong E Rd, Changhua County, 510",
         "Yuanlin",
         "Taiwan",
         "0",
         "me",
         "0",
         "False",
         "11",
         "2024",
         "2024-11",
         "0"
        ],
        [
         "25",
         "f4851",
         "2024-11-16 00:00:00",
         "uber eats",
         "Whole wheat toast (xiangyou flavor) 10 pieces/300g",
         "food",
         "1",
         "45",
         "9",
         "no",
         "0",
         "54",
         "credit card",
         "delivered",
         "2024-11-16 00:00:00",
         "56, Chenggong E Rd, Changhua County, 510",
         "Yuanlin",
         "Taiwan",
         "0",
         "me",
         "0",
         "False",
         "11",
         "2024",
         "2024-11",
         "0"
        ],
        [
         "26",
         "f4851",
         "2024-11-14 00:00:00",
         "uber eats",
         "French classic original mille-feuille 2 piece/150g",
         "food",
         "1",
         "99",
         "8",
         "no",
         "0",
         "107",
         "credit card",
         "delivered",
         "2024-11-16 00:00:00",
         "56, Chenggong E Rd, Changhua County, 510",
         "Yuanlin",
         "Taiwan",
         "0",
         "me",
         "2",
         "False",
         "11",
         "2024",
         "2024-11",
         "0"
        ],
        [
         "27",
         "f4851",
         "2024-11-16 00:00:00",
         "uber eats",
         "Ham and Cheese Croissant_Dasheng 100g",
         "food",
         "1",
         "39",
         "9",
         "no",
         "0",
         "48",
         "credit card",
         "delivered",
         "2024-11-16 00:00:00",
         "56, Chenggong E Rd, Changhua County, 510",
         "Yuanlin",
         "Taiwan",
         "0",
         "me",
         "0",
         "False",
         "11",
         "2024",
         "2024-11",
         "0"
        ],
        [
         "28",
         "83522",
         "2024-10-26 00:00:00",
         "uber eats",
         "Reduced Salt Miso Grilled Sea Bass Meal Box",
         "food",
         "1",
         "200",
         "25",
         "yes",
         "25",
         "200",
         "credit card",
         "delivered",
         "2024-10-26 00:00:00",
         "56, Chenggong E Rd, Changhua County, 510",
         "Yuanlin",
         "Taiwan",
         "0",
         "me",
         "0",
         "True",
         "10",
         "2024",
         "2024-10",
         "0"
        ],
        [
         "29",
         "87955",
         "2024-09-17 00:00:00",
         "uber eats",
         "whole wheat toast (xiangyou flavor) 10 pieces/300g",
         "food",
         "1",
         "45",
         "5",
         "no",
         "0",
         "50",
         "credit card",
         "delivered",
         "2024-09-17 00:00:00",
         "56, Chenggong E Rd, Changhua County, 510",
         "Yuanlin",
         "Taiwan",
         "0",
         "me",
         "0",
         "False",
         "9",
         "2024",
         "2024-09",
         "0"
        ],
        [
         "30",
         "87955",
         "2024-09-17 00:00:00",
         "uber eats",
         "2 pieces beef heart tomatoes 300g",
         "food",
         "1",
         "68",
         "5",
         "no",
         "0",
         "73",
         "credit card",
         "delivered",
         "2024-09-17 00:00:00",
         "56, Chenggong E Rd, Changhua County, 510",
         "Yuanlin",
         "Taiwan",
         "0",
         "me",
         "0",
         "False",
         "9",
         "2024",
         "2024-09",
         "0"
        ],
        [
         "31",
         "87955",
         "2024-09-17 00:00:00",
         "uber eats",
         "Carrots 330g",
         "food",
         "1",
         "20",
         "5",
         "no",
         "0",
         "25",
         "credit card",
         "delivered",
         "2024-09-17 00:00:00",
         "56, Chenggong E Rd, Changhua County, 510",
         "Yuanlin",
         "Taiwan",
         "0",
         "me",
         "0",
         "False",
         "9",
         "2024",
         "2024-09",
         "0"
        ],
        [
         "32",
         "87955",
         "2024-09-17 00:00:00",
         "uber eats",
         "Yimei egg cake crust 250g",
         "food",
         "1",
         "28",
         "5",
         "no",
         "0",
         "33",
         "credit card",
         "delivered",
         "2024-09-17 00:00:00",
         "56, Chenggong E Rd, Changhua County, 510",
         "Yuanlin",
         "Taiwan",
         "0",
         "me",
         "0",
         "False",
         "9",
         "2024",
         "2024-09",
         "0"
        ],
        [
         "33",
         "87955",
         "2024-09-17 00:00:00",
         "uber eats",
         "refrigerated chive egg pancake crust 825g (55g*15 piece)",
         "food",
         "1",
         "79",
         "5",
         "no",
         "0",
         "84",
         "credit card",
         "delivered",
         "2024-09-17 00:00:00",
         "56, Chenggong E Rd, Changhua County, 510",
         "Yuanlin",
         "Taiwan",
         "0",
         "me",
         "0",
         "False",
         "9",
         "2024",
         "2024-09",
         "0"
        ],
        [
         "34",
         "67247",
         "2024-08-14 00:00:00",
         "uber eats",
         "French classic original mille-feuille 2 piece/150g",
         "food",
         "1",
         "95",
         "107",
         "no",
         "0",
         "12",
         "credit card",
         "delivered",
         "2024-08-14 00:00:00",
         "56, Chenggong E Rd, Changhua County, 510",
         "Yuanlin",
         "Taiwan",
         "0",
         "me",
         "0",
         "False",
         "8",
         "2024",
         "2024-08",
         "0"
        ],
        [
         "35",
         "67247",
         "2024-08-14 00:00:00",
         "uber eats",
         "Custard Cream Dorayaki (Changjin) 3 pieces 135g",
         "food",
         "1",
         "45",
         "57",
         "no",
         "0",
         "12",
         "credit card",
         "delivered",
         "2024-08-14 00:00:00",
         "56, Chenggong E Rd, Changhua County, 510",
         "Yuanlin",
         "Taiwan",
         "0",
         "me",
         "0",
         "False",
         "8",
         "2024",
         "2024-08",
         "0"
        ],
        [
         "36",
         "67247",
         "2024-08-14 00:00:00",
         "uber eats",
         "Japanese baked donuts (Qixiang) 3 pieces 165g",
         "food",
         "1",
         "59",
         "72",
         "no",
         "0",
         "13",
         "credit card",
         "delivered",
         "2024-08-14 00:00:00",
         "56, Chenggong E Rd, Changhua County, 510",
         "Yuanlin",
         "Taiwan",
         "0",
         "me",
         "0",
         "False",
         "8",
         "2024",
         "2024-08",
         "0"
        ],
        [
         "37",
         "67247",
         "2024-08-14 00:00:00",
         "uber eats",
         "Maple Cream Dorayaki (Changjin) 8 pieces 320g",
         "food",
         "1",
         "72",
         "85",
         "no",
         "0",
         "13",
         "credit card",
         "delivered",
         "2024-08-14 00:00:00",
         "56, Chenggong E Rd, Changhua County, 510",
         "Yuanlin",
         "Taiwan",
         "0",
         "me",
         "0",
         "False",
         "8",
         "2024",
         "2024-08",
         "0"
        ],
        [
         "38",
         "1e9a9",
         "2024-08-09 00:00:00",
         "uber eats",
         "KFC Original egg tart gift box",
         "food",
         "1",
         "264",
         "13",
         "yes",
         "13",
         "264",
         "credit card",
         "delivered",
         "2024-08-09 00:00:00",
         "56, Chenggong E Rd, Changhua County, 510",
         "Yuanlin",
         "Taiwan",
         "0",
         "me",
         "0",
         "True",
         "8",
         "2024",
         "2024-08",
         "0"
        ],
        [
         "39",
         "1e9a9",
         "2024-08-09 00:00:00",
         "uber eats",
         "KFC Mozzarella Cheese Ball",
         "food",
         "1",
         "65",
         "13",
         "yes",
         "13",
         "65",
         "credit card",
         "delivered",
         "2024-08-09 00:00:00",
         "56, Chenggong E Rd, Changhua County, 510",
         "Yuanlin",
         "Taiwan",
         "0",
         "me",
         "0",
         "True",
         "8",
         "2024",
         "2024-08",
         "0"
        ],
        [
         "40",
         "18d77",
         "2024-08-05 00:00:00",
         "uber eats",
         "AB+ mixed berry yogurt 200g",
         "food",
         "2",
         "64",
         "20",
         "no",
         "0",
         "84",
         "credit card",
         "delivered",
         "2024-08-05 00:00:00",
         "56, Chenggong E Rd, Changhua County, 510",
         "Yuanlin",
         "Taiwan",
         "0",
         "me",
         "0",
         "False",
         "8",
         "2024",
         "2024-08",
         "0"
        ],
        [
         "41",
         "18d77",
         "2024-08-05 00:00:00",
         "uber eats",
         "Qishan Pearl Guava 1000g",
         "food",
         "1",
         "89",
         "20",
         "no",
         "0",
         "109",
         "credit card",
         "delivered",
         "2024-08-05 00:00:00",
         "56, Chenggong E Rd, Changhua County, 510",
         "Yuanlin",
         "Taiwan",
         "0",
         "me",
         "0",
         "False",
         "8",
         "2024",
         "2024-08",
         "0"
        ],
        [
         "42",
         "853e",
         "2024-07-12 00:00:00",
         "uber eats",
         "wheat toast (half slice)",
         "food",
         "1",
         "42",
         "20",
         "no",
         "0",
         "62",
         "credit card",
         "delivered",
         "2024-07-12 00:00:00",
         "56, Chenggong E Rd, Changhua County, 510",
         "Yuanlin",
         "Taiwan",
         "0",
         "me",
         "0",
         "False",
         "7",
         "2024",
         "2024-07",
         "0"
        ],
        [
         "43",
         "853e",
         "2024-07-12 00:00:00",
         "uber eats",
         "wheat toast (thick slice)",
         "food",
         "1",
         "42",
         "20",
         "no",
         "0",
         "62",
         "credit card",
         "delivered",
         "2024-07-12 00:00:00",
         "56, Chenggong E Rd, Changhua County, 510",
         "Yuanlin",
         "Taiwan",
         "0",
         "me",
         "0",
         "False",
         "7",
         "2024",
         "2024-07",
         "0"
        ],
        [
         "44",
         "853e",
         "2024-07-12 00:00:00",
         "uber eats",
         "Gilco almond fruit effect sugar-free almond fruit drink",
         "food",
         "1",
         "159",
         "20",
         "no",
         "0",
         "179",
         "credit card",
         "delivered",
         "2024-07-12 00:00:00",
         "56, Chenggong E Rd, Changhua County, 510",
         "Yuanlin",
         "Taiwan",
         "0",
         "me",
         "0",
         "False",
         "7",
         "2024",
         "2024-07",
         "0"
        ],
        [
         "45",
         "e6599",
         "2024-07-07 00:00:00",
         "uber eats",
         "wheat toast (half slice)",
         "food",
         "1",
         "42",
         "20",
         "yes",
         "20",
         "62",
         "credit card",
         "delivered",
         "2024-07-07 00:00:00",
         "56, Chenggong E Rd, Changhua County, 510",
         "Yuanlin",
         "Taiwan",
         "0",
         "me",
         "0",
         "True",
         "7",
         "2024",
         "2024-07",
         "0"
        ],
        [
         "46",
         "e6599",
         "2024-07-07 00:00:00",
         "uber eats",
         "wheat toast (thick slice)",
         "food",
         "1",
         "42",
         "20",
         "yes",
         "20",
         "62",
         "credit card",
         "delivered",
         "2024-07-07 00:00:00",
         "56, Chenggong E Rd, Changhua County, 510",
         "Yuanlin",
         "Taiwan",
         "0",
         "me",
         "0",
         "True",
         "7",
         "2024",
         "2024-07",
         "0"
        ],
        [
         "47",
         "e6599",
         "2024-07-07 00:00:00",
         "uber eats",
         "Frozen meat-pork cartilage 400g",
         "food",
         "2",
         "258",
         "20",
         "yes",
         "20",
         "278",
         "credit card",
         "delivered",
         "2024-07-07 00:00:00",
         "56, Chenggong E Rd, Changhua County, 510",
         "Yuanlin",
         "Taiwan",
         "0",
         "me",
         "0",
         "True",
         "7",
         "2024",
         "2024-07",
         "0"
        ],
        [
         "48",
         "105eb",
         "2024-07-05 00:00:00",
         "uber eats",
         "French large round bread",
         "food",
         "1",
         "45",
         "8",
         "yes",
         "13",
         "53",
         "credit card",
         "delivered",
         "2024-07-05 00:00:00",
         "56, Chenggong E Rd, Changhua County, 510",
         "Yuanlin",
         "Taiwan",
         "0",
         "me",
         "0",
         "True",
         "7",
         "2024",
         "2024-07",
         "0"
        ],
        [
         "49",
         "105eb",
         "2024-07-05 00:00:00",
         "uber eats",
         "Yimei Baoji Vegetable Juice Apple Orange 125ml",
         "food",
         "1",
         "90",
         "10",
         "yes",
         "12",
         "100",
         "credit card",
         "delivered",
         "2024-07-05 00:00:00",
         "56, Chenggong E Rd, Changhua County, 510",
         "Yuanlin",
         "Taiwan",
         "0",
         "me",
         "0",
         "True",
         "7",
         "2024",
         "2024-07",
         "0"
        ]
       ],
       "shape": {
        "columns": 25,
        "rows": 1519
       }
      },
      "text/html": [
       "<div>\n",
       "<style scoped>\n",
       "    .dataframe tbody tr th:only-of-type {\n",
       "        vertical-align: middle;\n",
       "    }\n",
       "\n",
       "    .dataframe tbody tr th {\n",
       "        vertical-align: top;\n",
       "    }\n",
       "\n",
       "    .dataframe thead th {\n",
       "        text-align: right;\n",
       "    }\n",
       "</style>\n",
       "<table border=\"1\" class=\"dataframe\">\n",
       "  <thead>\n",
       "    <tr style=\"text-align: right;\">\n",
       "      <th></th>\n",
       "      <th>order_id</th>\n",
       "      <th>purchase_date</th>\n",
       "      <th>platform</th>\n",
       "      <th>items_name</th>\n",
       "      <th>category</th>\n",
       "      <th>quantity</th>\n",
       "      <th>unit_price</th>\n",
       "      <th>shipping_cost</th>\n",
       "      <th>discount_apllied</th>\n",
       "      <th>discount_amount</th>\n",
       "      <th>...</th>\n",
       "      <th>city</th>\n",
       "      <th>country</th>\n",
       "      <th>return/refund</th>\n",
       "      <th>order_by</th>\n",
       "      <th>delivery_days</th>\n",
       "      <th>discount_used</th>\n",
       "      <th>order_month</th>\n",
       "      <th>order_year</th>\n",
       "      <th>order_month_year</th>\n",
       "      <th>is_returned</th>\n",
       "    </tr>\n",
       "  </thead>\n",
       "  <tbody>\n",
       "    <tr>\n",
       "      <th>0</th>\n",
       "      <td>p7yo25136g66</td>\n",
       "      <td>2025-03-29</td>\n",
       "      <td>food panda</td>\n",
       "      <td>beef fried rice</td>\n",
       "      <td>food</td>\n",
       "      <td>1</td>\n",
       "      <td>115</td>\n",
       "      <td>31</td>\n",
       "      <td>no</td>\n",
       "      <td>0</td>\n",
       "      <td>...</td>\n",
       "      <td>Yuanlin</td>\n",
       "      <td>Taiwan</td>\n",
       "      <td>0</td>\n",
       "      <td>me</td>\n",
       "      <td>0</td>\n",
       "      <td>False</td>\n",
       "      <td>3</td>\n",
       "      <td>2025</td>\n",
       "      <td>2025-03</td>\n",
       "      <td>0</td>\n",
       "    </tr>\n",
       "    <tr>\n",
       "      <th>1</th>\n",
       "      <td>po6u2501tjvc</td>\n",
       "      <td>2025-01-05</td>\n",
       "      <td>food panda</td>\n",
       "      <td>braised beef noodle soup combo</td>\n",
       "      <td>food</td>\n",
       "      <td>1</td>\n",
       "      <td>245</td>\n",
       "      <td>23</td>\n",
       "      <td>no</td>\n",
       "      <td>0</td>\n",
       "      <td>...</td>\n",
       "      <td>Yuanlin</td>\n",
       "      <td>Taiwan</td>\n",
       "      <td>0</td>\n",
       "      <td>me</td>\n",
       "      <td>0</td>\n",
       "      <td>False</td>\n",
       "      <td>1</td>\n",
       "      <td>2025</td>\n",
       "      <td>2025-01</td>\n",
       "      <td>0</td>\n",
       "    </tr>\n",
       "    <tr>\n",
       "      <th>2</th>\n",
       "      <td>uad22451s19m</td>\n",
       "      <td>2024-12-21</td>\n",
       "      <td>food panda</td>\n",
       "      <td>Local Taiwanese roasted pork sandwich set</td>\n",
       "      <td>food</td>\n",
       "      <td>1</td>\n",
       "      <td>185</td>\n",
       "      <td>0</td>\n",
       "      <td>yes</td>\n",
       "      <td>5</td>\n",
       "      <td>...</td>\n",
       "      <td>Yuanlin</td>\n",
       "      <td>Taiwan</td>\n",
       "      <td>0</td>\n",
       "      <td>me</td>\n",
       "      <td>0</td>\n",
       "      <td>True</td>\n",
       "      <td>12</td>\n",
       "      <td>2024</td>\n",
       "      <td>2024-12</td>\n",
       "      <td>0</td>\n",
       "    </tr>\n",
       "    <tr>\n",
       "      <th>3</th>\n",
       "      <td>uad22451s19m</td>\n",
       "      <td>2024-12-21</td>\n",
       "      <td>food panda</td>\n",
       "      <td>cheese bombed roast pork sandwich set</td>\n",
       "      <td>food</td>\n",
       "      <td>1</td>\n",
       "      <td>259</td>\n",
       "      <td>0</td>\n",
       "      <td>yes</td>\n",
       "      <td>5</td>\n",
       "      <td>...</td>\n",
       "      <td>Yuanlin</td>\n",
       "      <td>Taiwan</td>\n",
       "      <td>0</td>\n",
       "      <td>me</td>\n",
       "      <td>0</td>\n",
       "      <td>True</td>\n",
       "      <td>12</td>\n",
       "      <td>2024</td>\n",
       "      <td>2024-12</td>\n",
       "      <td>0</td>\n",
       "    </tr>\n",
       "    <tr>\n",
       "      <th>4</th>\n",
       "      <td>r2cs2450hsvb</td>\n",
       "      <td>2024-12-14</td>\n",
       "      <td>food panda</td>\n",
       "      <td>chicken fried rice</td>\n",
       "      <td>food</td>\n",
       "      <td>1</td>\n",
       "      <td>115</td>\n",
       "      <td>0</td>\n",
       "      <td>no</td>\n",
       "      <td>0</td>\n",
       "      <td>...</td>\n",
       "      <td>Yuanlin</td>\n",
       "      <td>Taiwan</td>\n",
       "      <td>0</td>\n",
       "      <td>me</td>\n",
       "      <td>0</td>\n",
       "      <td>False</td>\n",
       "      <td>12</td>\n",
       "      <td>2024</td>\n",
       "      <td>2024-12</td>\n",
       "      <td>0</td>\n",
       "    </tr>\n",
       "    <tr>\n",
       "      <th>...</th>\n",
       "      <td>...</td>\n",
       "      <td>...</td>\n",
       "      <td>...</td>\n",
       "      <td>...</td>\n",
       "      <td>...</td>\n",
       "      <td>...</td>\n",
       "      <td>...</td>\n",
       "      <td>...</td>\n",
       "      <td>...</td>\n",
       "      <td>...</td>\n",
       "      <td>...</td>\n",
       "      <td>...</td>\n",
       "      <td>...</td>\n",
       "      <td>...</td>\n",
       "      <td>...</td>\n",
       "      <td>...</td>\n",
       "      <td>...</td>\n",
       "      <td>...</td>\n",
       "      <td>...</td>\n",
       "      <td>...</td>\n",
       "      <td>...</td>\n",
       "    </tr>\n",
       "    <tr>\n",
       "      <th>1514</th>\n",
       "      <td>112-2090574-5747442</td>\n",
       "      <td>2025-04-08</td>\n",
       "      <td>Amazon</td>\n",
       "      <td>Shape &amp; Color Sorting Montessori Toys for Todd...</td>\n",
       "      <td>baby supplies</td>\n",
       "      <td>1</td>\n",
       "      <td>433</td>\n",
       "      <td>209</td>\n",
       "      <td>yes</td>\n",
       "      <td>161</td>\n",
       "      <td>...</td>\n",
       "      <td>Yuanlin</td>\n",
       "      <td>Taiwan</td>\n",
       "      <td>0</td>\n",
       "      <td>me</td>\n",
       "      <td>8</td>\n",
       "      <td>True</td>\n",
       "      <td>4</td>\n",
       "      <td>2025</td>\n",
       "      <td>2025-04</td>\n",
       "      <td>0</td>\n",
       "    </tr>\n",
       "    <tr>\n",
       "      <th>1515</th>\n",
       "      <td>112-2090574-5747442</td>\n",
       "      <td>2025-04-08</td>\n",
       "      <td>Amazon</td>\n",
       "      <td>Yetonamr Montessori Toys for 1 2 3 Years Old B...</td>\n",
       "      <td>baby supplies</td>\n",
       "      <td>1</td>\n",
       "      <td>270</td>\n",
       "      <td>209</td>\n",
       "      <td>yes</td>\n",
       "      <td>161</td>\n",
       "      <td>...</td>\n",
       "      <td>Yuanlin</td>\n",
       "      <td>Taiwan</td>\n",
       "      <td>0</td>\n",
       "      <td>me</td>\n",
       "      <td>8</td>\n",
       "      <td>True</td>\n",
       "      <td>4</td>\n",
       "      <td>2025</td>\n",
       "      <td>2025-04</td>\n",
       "      <td>0</td>\n",
       "    </tr>\n",
       "    <tr>\n",
       "      <th>1516</th>\n",
       "      <td>112-2090574-5747442</td>\n",
       "      <td>2025-04-08</td>\n",
       "      <td>Amazon</td>\n",
       "      <td>Zeoddler Alphabet Puzzles, Wooden Puzzles for ...</td>\n",
       "      <td>baby supplies</td>\n",
       "      <td>1</td>\n",
       "      <td>180</td>\n",
       "      <td>209</td>\n",
       "      <td>yes</td>\n",
       "      <td>161</td>\n",
       "      <td>...</td>\n",
       "      <td>Yuanlin</td>\n",
       "      <td>Taiwan</td>\n",
       "      <td>0</td>\n",
       "      <td>me</td>\n",
       "      <td>8</td>\n",
       "      <td>True</td>\n",
       "      <td>4</td>\n",
       "      <td>2025</td>\n",
       "      <td>2025-04</td>\n",
       "      <td>0</td>\n",
       "    </tr>\n",
       "    <tr>\n",
       "      <th>1517</th>\n",
       "      <td>2,46092E+14</td>\n",
       "      <td>2020-04-29</td>\n",
       "      <td>Lazada</td>\n",
       "      <td>Danux Wireless Bluetooth Remote Game Joystick ...</td>\n",
       "      <td>Entertainment</td>\n",
       "      <td>1</td>\n",
       "      <td>47</td>\n",
       "      <td>11</td>\n",
       "      <td>no</td>\n",
       "      <td>0</td>\n",
       "      <td>...</td>\n",
       "      <td>Ha Noi</td>\n",
       "      <td>Vietnam</td>\n",
       "      <td>47</td>\n",
       "      <td>me</td>\n",
       "      <td>9</td>\n",
       "      <td>False</td>\n",
       "      <td>4</td>\n",
       "      <td>2020</td>\n",
       "      <td>2020-04</td>\n",
       "      <td>1</td>\n",
       "    </tr>\n",
       "    <tr>\n",
       "      <th>1518</th>\n",
       "      <td>240526C4DQ1XGQ</td>\n",
       "      <td>2024-05-26</td>\n",
       "      <td>Shopee</td>\n",
       "      <td>Hongjiayuan latest 5G dual-band five-antenna m...</td>\n",
       "      <td>Electronic</td>\n",
       "      <td>1</td>\n",
       "      <td>699</td>\n",
       "      <td>45</td>\n",
       "      <td>yes</td>\n",
       "      <td>45</td>\n",
       "      <td>...</td>\n",
       "      <td>Yuanlin</td>\n",
       "      <td>Taiwan</td>\n",
       "      <td>699</td>\n",
       "      <td>me</td>\n",
       "      <td>2</td>\n",
       "      <td>True</td>\n",
       "      <td>5</td>\n",
       "      <td>2024</td>\n",
       "      <td>2024-05</td>\n",
       "      <td>1</td>\n",
       "    </tr>\n",
       "  </tbody>\n",
       "</table>\n",
       "<p>1519 rows × 25 columns</p>\n",
       "</div>"
      ],
      "text/plain": [
       "                 order_id purchase_date    platform  \\\n",
       "0            p7yo25136g66    2025-03-29  food panda   \n",
       "1            po6u2501tjvc    2025-01-05  food panda   \n",
       "2            uad22451s19m    2024-12-21  food panda   \n",
       "3            uad22451s19m    2024-12-21  food panda   \n",
       "4            r2cs2450hsvb    2024-12-14  food panda   \n",
       "...                   ...           ...         ...   \n",
       "1514  112-2090574-5747442    2025-04-08      Amazon   \n",
       "1515  112-2090574-5747442    2025-04-08      Amazon   \n",
       "1516  112-2090574-5747442    2025-04-08      Amazon   \n",
       "1517          2,46092E+14    2020-04-29      Lazada   \n",
       "1518       240526C4DQ1XGQ    2024-05-26      Shopee   \n",
       "\n",
       "                                             items_name       category  \\\n",
       "0                                       beef fried rice           food   \n",
       "1                        braised beef noodle soup combo           food   \n",
       "2             Local Taiwanese roasted pork sandwich set           food   \n",
       "3                 cheese bombed roast pork sandwich set           food   \n",
       "4                                    chicken fried rice           food   \n",
       "...                                                 ...            ...   \n",
       "1514  Shape & Color Sorting Montessori Toys for Todd...  baby supplies   \n",
       "1515  Yetonamr Montessori Toys for 1 2 3 Years Old B...  baby supplies   \n",
       "1516  Zeoddler Alphabet Puzzles, Wooden Puzzles for ...  baby supplies   \n",
       "1517  Danux Wireless Bluetooth Remote Game Joystick ...  Entertainment   \n",
       "1518  Hongjiayuan latest 5G dual-band five-antenna m...     Electronic   \n",
       "\n",
       "      quantity  unit_price  shipping_cost discount_apllied  discount_amount  \\\n",
       "0            1         115             31               no                0   \n",
       "1            1         245             23               no                0   \n",
       "2            1         185              0              yes                5   \n",
       "3            1         259              0              yes                5   \n",
       "4            1         115              0               no                0   \n",
       "...        ...         ...            ...              ...              ...   \n",
       "1514         1         433            209              yes              161   \n",
       "1515         1         270            209              yes              161   \n",
       "1516         1         180            209              yes              161   \n",
       "1517         1          47             11               no                0   \n",
       "1518         1         699             45              yes               45   \n",
       "\n",
       "      ...     city  country return/refund order_by delivery_days  \\\n",
       "0     ...  Yuanlin   Taiwan             0       me             0   \n",
       "1     ...  Yuanlin   Taiwan             0       me             0   \n",
       "2     ...  Yuanlin   Taiwan             0       me             0   \n",
       "3     ...  Yuanlin   Taiwan             0       me             0   \n",
       "4     ...  Yuanlin   Taiwan             0       me             0   \n",
       "...   ...      ...      ...           ...      ...           ...   \n",
       "1514  ...  Yuanlin   Taiwan             0       me             8   \n",
       "1515  ...  Yuanlin   Taiwan             0       me             8   \n",
       "1516  ...  Yuanlin   Taiwan             0       me             8   \n",
       "1517  ...   Ha Noi  Vietnam            47       me             9   \n",
       "1518  ...  Yuanlin   Taiwan           699       me             2   \n",
       "\n",
       "     discount_used order_month order_year order_month_year  is_returned  \n",
       "0            False           3       2025          2025-03            0  \n",
       "1            False           1       2025          2025-01            0  \n",
       "2             True          12       2024          2024-12            0  \n",
       "3             True          12       2024          2024-12            0  \n",
       "4            False          12       2024          2024-12            0  \n",
       "...            ...         ...        ...              ...          ...  \n",
       "1514          True           4       2025          2025-04            0  \n",
       "1515          True           4       2025          2025-04            0  \n",
       "1516          True           4       2025          2025-04            0  \n",
       "1517         False           4       2020          2020-04            1  \n",
       "1518          True           5       2024          2024-05            1  \n",
       "\n",
       "[1519 rows x 25 columns]"
      ]
     },
     "execution_count": 15,
     "metadata": {},
     "output_type": "execute_result"
    }
   ],
   "source": [
    "df"
   ]
  },
  {
   "cell_type": "code",
   "execution_count": 16,
   "id": "d1ea0ec2",
   "metadata": {},
   "outputs": [
    {
     "data": {
      "text/plain": [
       "array(['food', 'Packaging Supplies', 'Household Items', 'baby supplies',\n",
       "       'Beauty & Personal Care', 'Fashion & Apparel', 'Electronic',\n",
       "       'Groceries', 'Entertainment', 'vehicule accessory',\n",
       "       'packaging Supplies', 'Beverage', 'beverage', 'groceries', 'Food',\n",
       "       'Pet Supply', 'household Items', 'pet Supply', 'Workout Equipment',\n",
       "       'others', 'Others', 'Supplement', 'fashion & Apparel',\n",
       "       'beauty & Personal Care', 'workout Equipment', 'electronic',\n",
       "       'Book', 'supplement', 'book'], dtype=object)"
      ]
     },
     "execution_count": 16,
     "metadata": {},
     "output_type": "execute_result"
    }
   ],
   "source": [
    "# find unique values in a column\n",
    "df[\"category\"].unique()"
   ]
  },
  {
   "cell_type": "code",
   "execution_count": 17,
   "id": "e7df7d04",
   "metadata": {},
   "outputs": [],
   "source": [
    "# standardize the categorical fileds\n",
    "df[\"platform\"] = df[\"platform\"].str.strip().str.lower()\n",
    "df[\"category\"] = df[\"category\"].str.strip().str.lower()\n",
    "df[\"payment_method\"] = df[\"payment_method\"].str.strip().str.lower()"
   ]
  },
  {
   "cell_type": "code",
   "execution_count": 18,
   "id": "11eba833",
   "metadata": {},
   "outputs": [],
   "source": [
    "# Removing columns\n",
    "df.drop(columns=[\"discount_apllied\", \"status\"], inplace=True)"
   ]
  },
  {
   "cell_type": "markdown",
   "id": "80998b32",
   "metadata": {},
   "source": [
    "#### I have removed these discount_applied because i have create a new column discount_used which is a boolean and status is the same value for the all dataset all our items have been delivered"
   ]
  },
  {
   "cell_type": "code",
   "execution_count": 19,
   "id": "62e9e8f7",
   "metadata": {},
   "outputs": [],
   "source": [
    "df.to_csv('cleaned_data.csv', index=False)"
   ]
  },
  {
   "cell_type": "markdown",
   "id": "564975d8",
   "metadata": {},
   "source": [
    "## Exploratory Data Analysis"
   ]
  },
  {
   "cell_type": "code",
   "execution_count": 20,
   "id": "7c98919b",
   "metadata": {},
   "outputs": [],
   "source": [
    "import matplotlib.pyplot as plt\n",
    "import seaborn as sns"
   ]
  },
  {
   "cell_type": "markdown",
   "id": "c76a410c",
   "metadata": {},
   "source": [
    "### 1. Year-over-Year Spending Growth\n",
    "To understand how your annual online spending has evolved, we:"
   ]
  },
  {
   "cell_type": "code",
   "execution_count": 21,
   "id": "b8b7ba38",
   "metadata": {},
   "outputs": [
    {
     "name": "stdout",
     "output_type": "stream",
     "text": [
      "   order_year  YoY_growth\n",
      "0        2018         NaN\n",
      "1        2019    0.581234\n",
      "2        2020    7.544216\n",
      "3        2021   -0.315930\n",
      "4        2022    0.215730\n",
      "5        2023    0.145410\n",
      "6        2024    3.804000\n",
      "7        2025   -0.665415\n"
     ]
    }
   ],
   "source": [
    "yr_ovr_yr = (\n",
    "    df.groupby('order_year')['total_price'].sum()\n",
    "    .pct_change()\n",
    "    .reset_index()\n",
    "    .rename(columns={'total_price': 'YoY_growth'})\n",
    ")\n",
    "\n",
    "print(yr_ovr_yr)\n"
   ]
  },
  {
   "cell_type": "markdown",
   "id": "e1b80eca",
   "metadata": {},
   "source": [
    "**Key insights:**\n",
    "\n",
    "- **2019 (+58.12%)**:saw an increase due to my first full year in Vietnam as a student. I relied heavily on online orders to navigate a new city where I wasn't yet familiar with local stores.  \n",
    "- **2020 (+754.42%)**: spiked dramatically due to the  pandemic lockdowns I was forced to purchase nearly everything online.  \n",
    "- **2021 (–31.59%)**: experienced a pullback a job loss early in the year tightened my budget.\n",
    "- **2022 (+21.57%)**: an increase after moving to a new city, and unfamiliar with local shopping options and start heavy online ordering.  \n",
    "- **2023 (+14.54%)**: experienced a pullback, we spent less on extras so we could save up before the baby arrived.  \n",
    "- **2024 (+380.40%)**: Dramatically increase due to relocation to Taiwan in March—where we didn’t yet speak the language, and expanding to a three-member family, we leaned on online shopping for convenience and baby supplies.  \n",
    "- **2025 (–66.54%)**: We’re only partway through the year, so it looks like spending fell, but that’s just because the data isn’t complete yet, not because we really spent less."
   ]
  },
  {
   "cell_type": "markdown",
   "id": "13891266",
   "metadata": {},
   "source": [
    "### 2. Overall Discount Savings Rate\n",
    "\n",
    "This metric quantifies how much of your total purchase value was saved through discounts. We:"
   ]
  },
  {
   "cell_type": "code",
   "execution_count": 22,
   "id": "1d5e5a43",
   "metadata": {},
   "outputs": [
    {
     "name": "stdout",
     "output_type": "stream",
     "text": [
      "Discount Savings Rate: 6.65%\n"
     ]
    }
   ],
   "source": [
    "total_spent = df['total_price'].sum()\n",
    "total_discount = df['discount_amount'].sum()\n",
    "savings_rate = total_discount / (total_spent + total_discount)\n",
    "\n",
    "print(f\"Discount Savings Rate: {savings_rate:.2%}\")\n"
   ]
  },
  {
   "cell_type": "markdown",
   "id": "b82788fd",
   "metadata": {},
   "source": [
    "In other words, for every \\$100 of full-price items, you saved about \\$6.65 thanks to discounts.\tThis highlights the overall impact of promotional offers on your spending."
   ]
  },
  {
   "cell_type": "markdown",
   "id": "19d081c0",
   "metadata": {},
   "source": [
    "### 3. Return Rate\n",
    "\n",
    "This metric shows the proportion of orders you end up sending back. We:"
   ]
  },
  {
   "cell_type": "code",
   "execution_count": 23,
   "id": "0617f792",
   "metadata": {},
   "outputs": [
    {
     "name": "stdout",
     "output_type": "stream",
     "text": [
      "Return Rate: 0.20%\n"
     ]
    }
   ],
   "source": [
    "return_rate = df['is_returned'].mean()\n",
    "print(f\"Return Rate: {return_rate:.2%}\")"
   ]
  },
  {
   "cell_type": "markdown",
   "id": "03237594",
   "metadata": {},
   "source": [
    "At just two tenths of one percent, we return fewer than 1 out of every 500 orders, confirming that we from 2018 to 2025 we return only 4 times "
   ]
  },
  {
   "cell_type": "markdown",
   "id": "f7da519e",
   "metadata": {},
   "source": [
    "### 4. Same-Day Delivery Rate\n",
    "This metric measures how often our orders arrive on the same day:"
   ]
  },
  {
   "cell_type": "code",
   "execution_count": 24,
   "id": "41a32f05",
   "metadata": {},
   "outputs": [
    {
     "name": "stdout",
     "output_type": "stream",
     "text": [
      "Same-Day Delivery Rate: 59.18%\n"
     ]
    }
   ],
   "source": [
    "same_day = (df['delivery_days'] == 0).mean()\n",
    "print(f\"Same-Day Delivery Rate: {same_day:.2%}\")\n"
   ]
  },
  {
   "cell_type": "markdown",
   "id": "9c98f7b8",
   "metadata": {},
   "source": [
    "Nearly 6 out of 10 of our orders arrive the same day. This high rate is largely driven by your frequent food orders, which typically offer same-day delivery."
   ]
  },
  {
   "cell_type": "markdown",
   "id": "89d765f8",
   "metadata": {},
   "source": [
    "### 5. Spending Share by Household Member\n",
    "To see who has spent more money shopping online"
   ]
  },
  {
   "cell_type": "code",
   "execution_count": 25,
   "id": "9195d01f",
   "metadata": {},
   "outputs": [
    {
     "name": "stdout",
     "output_type": "stream",
     "text": [
      "order_by\n",
      "me      146441\n",
      "wife    214973\n",
      "Name: total_price, dtype: int64\n",
      "Spending Share:\n",
      "order_by\n",
      "me      0.405189\n",
      "wife    0.594811\n",
      "Name: total_price, dtype: float64\n"
     ]
    }
   ],
   "source": [
    "total_by_person = df.groupby('order_by')['total_price'].sum()\n",
    "print(total_by_person)\n",
    "\n",
    "percentage = total_by_person / total_by_person.sum()\n",
    "print(f\"Spending Share:\\n{percentage}\")\n"
   ]
  },
  {
   "cell_type": "markdown",
   "id": "9e49b958",
   "metadata": {},
   "source": [
    "\n",
    "| Person | Total Spent | Share of Spending |\n",
    "|:------:|------------:|------------------:|\n",
    "| Me     | \\$146,441   | 40.52%            |\n",
    "| Wife   | \\$214,973   | 59.48%            |\n",
    "\n",
    "**Insight:** My wife accounts for nearly 60% of the total online spending, while I account for about 40%. This split could reflect differences in purchase categories or frequency."
   ]
  },
  {
   "cell_type": "markdown",
   "id": "536560f6",
   "metadata": {},
   "source": [
    "### 6.  Top 10 Items by Total Spend\n",
    "To highlight your biggest investments"
   ]
  },
  {
   "cell_type": "code",
   "execution_count": 26,
   "id": "595956df",
   "metadata": {},
   "outputs": [
    {
     "data": {
      "application/vnd.microsoft.datawrangler.viewer.v0+json": {
       "columns": [
        {
         "name": "items_name",
         "rawType": "object",
         "type": "string"
        },
        {
         "name": "total_price",
         "rawType": "int64",
         "type": "integer"
        }
       ],
       "ref": "9994c093-7787-4088-92ad-b32439d4e729",
       "rows": [
        [
         "Sony Playstation 5 Pro + Playstation VR2",
         "36960"
        ],
        [
         "ACER Swift 3 SF314-58G-52AL 14-inch Thin Laptop Pink",
         "21900"
        ],
        [
         "Honeywell Free Filter USA-Anti-allergy Series Air Purifier (Black) HPA-202APTW",
         "6990"
        ],
        [
         "Estee Lauder aTerun super conducting all-round reparairing lotion 50ml+30ml(combo)",
         "6311"
        ],
        [
         "[BRUNO] Smokeless multifunctional electric grill pan",
         "5631"
        ],
        [
         "Shark Steam & Scrub with Steam Blaster Technology All-in-One Hard Floor Steam Mop with 3 Steam Modes & LED Headlights S8201",
         "5041"
        ],
        [
         "Asics Arthurs jogging shoes GEL-Nimbus 26 Platinum men's shoes blue gold platinum series cushioning sports shoes",
         "3720"
        ],
        [
         "Logitech MX Master 3 Wireless Mouse",
         "3290"
        ],
        [
         "sp Armor A62L 4TB 2.5-inch Game Drive Military-grade Mobile Hard Drive",
         "2999"
        ],
        [
         "Govee Envisual TV LED Backlight T2 with Dual Cameras, 11.8ft RGBIC Wi-Fi LED Strip Lights for 55-65 inch TVs, Double Strip Light Beads, for Home Decorations, Smart App Control, Music Sync",
         "2892"
        ]
       ],
       "shape": {
        "columns": 1,
        "rows": 10
       }
      },
      "text/plain": [
       "items_name\n",
       "Sony Playstation 5 Pro + Playstation VR2                                                                                                                                                       36960\n",
       "ACER Swift 3 SF314-58G-52AL 14-inch Thin Laptop Pink                                                                                                                                           21900\n",
       "Honeywell Free Filter USA-Anti-allergy Series Air Purifier (Black) HPA-202APTW                                                                                                                  6990\n",
       "Estee Lauder aTerun super conducting all-round reparairing lotion 50ml+30ml(combo)                                                                                                              6311\n",
       "[BRUNO] Smokeless multifunctional electric grill pan                                                                                                                                            5631\n",
       "Shark Steam & Scrub with Steam Blaster Technology All-in-One Hard Floor Steam Mop with 3 Steam Modes & LED Headlights S8201                                                                     5041\n",
       "Asics Arthurs jogging shoes GEL-Nimbus 26 Platinum men's shoes blue gold platinum series cushioning sports shoes                                                                                3720\n",
       "Logitech MX Master 3 Wireless Mouse                                                                                                                                                             3290\n",
       "sp Armor A62L 4TB 2.5-inch Game Drive Military-grade Mobile Hard Drive                                                                                                                          2999\n",
       "Govee Envisual TV LED Backlight T2 with Dual Cameras, 11.8ft RGBIC Wi-Fi LED Strip Lights for 55-65 inch TVs, Double Strip Light Beads, for Home Decorations, Smart App Control, Music Sync     2892\n",
       "Name: total_price, dtype: int64"
      ]
     },
     "execution_count": 26,
     "metadata": {},
     "output_type": "execute_result"
    }
   ],
   "source": [
    "# Top spending Items\n",
    "df.groupby('items_name')['total_price'].sum().sort_values(ascending=False).head(10)"
   ]
  },
  {
   "cell_type": "markdown",
   "id": "d10149c9",
   "metadata": {},
   "source": [
    "**Key observations:**\n",
    "- **Gaming & Entertainment:** The PS5 Pro + VR2 bundle tops the list, indicating a major one-time gaming purchase.  \n",
    "- **Computing & Productivity:** High-value laptops and peripherals (Acer Swift 3, Logitech mouse) suggest significant investment in work or study tools.  \n",
    "- **Home & Wellness:** Items like air purifiers, steam mops, and electric grills show our focus on home comfort and convenience.  \n"
   ]
  },
  {
   "cell_type": "markdown",
   "id": "edfbeba5",
   "metadata": {},
   "source": [
    "### 7. How has our monthly and yearly online spending changed from 2018 to 2025?\n",
    "- The goal is to understand change in our monthly and yearly spending behavior across the 2018-2025 period.\n",
    "\n",
    "#### What we need to do:\n",
    "- Group data by order_month_year or order_year and sum total_price\n",
    "\n",
    "- Plot a line chart showing how spending changes over time\n",
    "\n",
    "- Annotate spikes or drops (e.g., due to big purchases, refunds, or seasonal behavior)"
   ]
  },
  {
   "cell_type": "markdown",
   "id": "001ae3ce",
   "metadata": {},
   "source": [
    "### 7. Quarterly Online Spending Trend (2018–2025)\n",
    "This line chart shows how our household’s online spending has fluctuated each quarter over eight years."
   ]
  },
  {
   "cell_type": "code",
   "execution_count": 27,
   "id": "30733321",
   "metadata": {},
   "outputs": [
    {
     "data": {
      "image/png": "[encoded data removed]",
      "text/plain": [
       "<Figure size 1400x600 with 1 Axes>"
      ]
     },
     "metadata": {},
     "output_type": "display_data"
    }
   ],
   "source": [
    "df['order_month_year'] = pd.to_datetime(df['order_month_year'], format=\"%Y-%m\")\n",
    "quarterly_spending = df.groupby(df['order_month_year'].dt.to_period('Q'))['total_price'].sum().reset_index()\n",
    "quarterly_spending['order_month_year'] = quarterly_spending['order_month_year'].astype(str)\n",
    "\n",
    "plt.figure(figsize=(14, 6))\n",
    "sns.lineplot(data=quarterly_spending, x='order_month_year', y='total_price', marker='o')\n",
    "plt.title('Quarterly Household Spending (2018–2025)', fontsize=16)\n",
    "plt.xlabel('Quarter')\n",
    "plt.ylabel('Total Spending (NT$)')\n",
    "plt.xticks(rotation=45)\n",
    "#plt.grid(True)\n",
    "plt.tight_layout()\n",
    "plt.show()\n"
   ]
  },
  {
   "cell_type": "markdown",
   "id": "80ebdbf4",
   "metadata": {},
   "source": [
    " A few key takeaways:\n",
    " **Major spikes**  \n",
    "  - **Q2 2020** saw a dramatic jump, driven by pandemic lockdowns when almost everything had to be ordered online.  \n",
    "  - **Q4 2024** reached a record high as we relocated to Taiwan and expanded our family to three—necessitating baby supplies and home setup.  \n",
    "- **Recovery & growth**  \n",
    "  - After the 2021 dip, spending steadily climbed through 2022 and 2023, reflecting our increasing comfort with online shopping in new cities.  \n",
    "- **Seasonal pattern**  \n",
    "  - Noticeably higher spending in the latter half of each year, likely tied to end-of-year events and preparations."
   ]
  },
  {
   "cell_type": "markdown",
   "id": "6e1ea4dc",
   "metadata": {},
   "source": [
    "### 8. Which item categories  do we use the most?\n",
    "\n",
    "- This question will help break down spending by category \n",
    "\n",
    "#### What we need to do is:\n",
    "- Groupo by category and sum total_price\n",
    "- sort descending to find the top-spending categories\n",
    "- visualize with a horizontal bar chart\n",
    "\n"
   ]
  },
  {
   "cell_type": "code",
   "execution_count": 28,
   "id": "32c0936c",
   "metadata": {},
   "outputs": [
    {
     "name": "stderr",
     "output_type": "stream",
     "text": [
      "/var/folders/5c/fblzqqy57nd5fh9f2_kv2k700000gn/T/ipykernel_63102/3167427576.py:5: FutureWarning: \n",
      "\n",
      "Passing `palette` without assigning `hue` is deprecated and will be removed in v0.14.0. Assign the `y` variable to `hue` and set `legend=False` for the same effect.\n",
      "\n",
      "  sns.barplot(data=category_spending, x='total_price', y='category', palette='Blues_d')\n"
     ]
    },
    {
     "data": {
      "image/png": "[encoded data removed]",
      "text/plain": [
       "<Figure size 1000x600 with 1 Axes>"
      ]
     },
     "metadata": {},
     "output_type": "display_data"
    }
   ],
   "source": [
    "# Total Spending by Category\n",
    "category_spending = df.groupby('category')['total_price'].sum().sort_values(ascending=False).reset_index()\n",
    "\n",
    "plt.figure(figsize=(10, 6))\n",
    "sns.barplot(data=category_spending, x='total_price', y='category', palette='Blues_d')\n",
    "plt.title('Total Spending by Category (2018 - 2025)', fontsize=14)\n",
    "plt.xlabel('Total Spending (NT$)')\n",
    "plt.ylabel('Category')\n",
    "plt.tight_layout()\n",
    "plt.show()"
   ]
  },
  {
   "cell_type": "markdown",
   "id": "f4cceb50",
   "metadata": {},
   "source": [
    "**Key takeaways:**  \n",
    "- **Electronics** is our biggest spend (e.g., PS5 Pro, new laptop).  \n",
    "- **Food** comes in second, since you often order meals for same-day delivery.  \n",
    "- After our daughter was born, **baby supplies** moved into the top five, showing how our needs changed.  \n"
   ]
  },
  {
   "cell_type": "markdown",
   "id": "f75d326c",
   "metadata": {},
   "source": [
    "### 9. Spending by Category & Platform"
   ]
  },
  {
   "cell_type": "code",
   "execution_count": 29,
   "id": "2208d090",
   "metadata": {},
   "outputs": [
    {
     "data": {
      "image/png": "[encoded data removed]",
      "text/plain": [
       "<Figure size 1400x900 with 2 Axes>"
      ]
     },
     "metadata": {},
     "output_type": "display_data"
    }
   ],
   "source": [
    "agg_data = df.groupby(['platform', 'category'])['total_price'].sum().reset_index()\n",
    "\n",
    "pivot_table = agg_data.pivot(index='platform', columns='category', values='total_price').fillna(0)\n",
    "\n",
    "plt.figure(figsize=(14, 9))\n",
    "sns.heatmap(pivot_table, annot=True, fmt=\".0f\", cmap='YlGnBu')\n",
    "\n",
    "plt.title('Spending by Category and Platform (Heatmap)', fontsize=16)\n",
    "plt.xlabel('Category')\n",
    "plt.ylabel('Platform')\n",
    "plt.xticks(rotation=45)\n",
    "plt.tight_layout()\n",
    "plt.show()"
   ]
  },
  {
   "cell_type": "markdown",
   "id": "753bb491",
   "metadata": {},
   "source": [
    "This heatmap visualizes our total spending broken down by **platform** (rows) and **category** (columns) from 2018 to 2025. Cells are shaded more darkly where we spent the most.\n",
    "\n",
    "**Key insights:**\n",
    "- **Food vs. Food Delivery:**  \n",
    "  - **Foodpanda** (NT$43,341) and **Uber Eats** (NT$27,784) are our go-to platforms for food orders—far outpacing general retailers in the “Food” category.  \n",
    "- **Electronics Hubs:**  \n",
    "  - **momo** (NT$36,960) and **pchome24h** (NT$30,578) dominate electronics purchases, showing where we turn for high-value gadgets.  \n",
    "- **Marketplace Mix:**  \n",
    "  - **Shopee** shows a balanced profile across many categories—top in baby supplies (NT$14,221) and strong in household items (NT$12,996) and beauty (NT$12,421).  \n",
    "- **Niche Platforms:**  \n",
    "  - **iHerb** is almost exclusively for personal care (NT$747), while **Lazada** and **foodpanda** each have smaller pockets of activity in home goods, groceries, and apparel.\n",
    "\n"
   ]
  },
  {
   "cell_type": "markdown",
   "id": "34fbcff8",
   "metadata": {},
   "source": [
    "### 10. How much have we saved using discounts?\n",
    "Here we need to:\n",
    "\n",
    "Calculate total discount amount saved overall\n",
    "\n",
    "Calculate total discount saved by year to see trends over time\n",
    "\n",
    "Calculate discount saved by platform or category for deeper insights\n",
    "\n",
    "Visualize these savings"
   ]
  },
  {
   "cell_type": "code",
   "execution_count": 30,
   "id": "16ec6061",
   "metadata": {},
   "outputs": [
    {
     "name": "stdout",
     "output_type": "stream",
     "text": [
      "Total discount saved: NT$25,764.00\n"
     ]
    }
   ],
   "source": [
    "total_discount = df['discount_amount'].sum()\n",
    "print(f\"Total discount saved: NT${total_discount:,.2f}\")"
   ]
  },
  {
   "cell_type": "code",
   "execution_count": 31,
   "id": "cb0275d0",
   "metadata": {},
   "outputs": [
    {
     "name": "stderr",
     "output_type": "stream",
     "text": [
      "/var/folders/5c/fblzqqy57nd5fh9f2_kv2k700000gn/T/ipykernel_63102/170950245.py:4: FutureWarning: \n",
      "\n",
      "Passing `palette` without assigning `hue` is deprecated and will be removed in v0.14.0. Assign the `x` variable to `hue` and set `legend=False` for the same effect.\n",
      "\n",
      "  sns.barplot(data=discount_by_year, x='order_year', y='discount_amount', palette='Blues_d')\n"
     ]
    },
    {
     "data": {
      "image/png": "[encoded data removed]",
      "text/plain": [
       "<Figure size 1000x600 with 1 Axes>"
      ]
     },
     "metadata": {},
     "output_type": "display_data"
    }
   ],
   "source": [
    "discount_by_year = df.groupby('order_year')['discount_amount'].sum().reset_index()\n",
    "\n",
    "plt.figure(figsize=(10,6))\n",
    "sns.barplot(data=discount_by_year, x='order_year', y='discount_amount', palette='Blues_d')\n",
    "plt.title('Total Discount Saved by Year')\n",
    "plt.xlabel('Year')\n",
    "plt.ylabel('Discount Amount (NT$)')\n",
    "plt.show()\n"
   ]
  },
  {
   "cell_type": "markdown",
   "id": "4e17098a",
   "metadata": {},
   "source": [
    "Over the full period, we saved a total of **NT$25,764** through discounts.\n",
    "\n",
    "The bar chart breaks this down by year:\n",
    "\n",
    "- **2018–2019:** Almost no savings as we were just getting started with online ordering.  \n",
    "- **2020–2022:** Gradual growth in savings as we began to use more promo codes and discount events.  \n",
    "- **2023:** A noticeable jump in savings, reflecting higher order volume that year.  \n",
    "- **2024:** Peak savings, our biggest discount haul, coinciding with our highest spending.  \n",
    "- **2025 (YTD):** Strong continued savings, showing we’re still capitalizing on deals.\n"
   ]
  },
  {
   "cell_type": "markdown",
   "id": "0a22c923",
   "metadata": {},
   "source": [
    "### 11.Total Discounts by Platform"
   ]
  },
  {
   "cell_type": "code",
   "execution_count": 32,
   "id": "6b10a3c9",
   "metadata": {},
   "outputs": [
    {
     "name": "stdout",
     "output_type": "stream",
     "text": [
      "platform\n",
      "uber eats     9033\n",
      "shopee        5654\n",
      "food panda    4581\n",
      "amazon        4505\n",
      "lazada        1294\n",
      "pchome24h      697\n",
      "iherb            0\n",
      "momo             0\n",
      "Name: discount_amount, dtype: int64\n"
     ]
    }
   ],
   "source": [
    "discount_by_platform = (\n",
    "    df.groupby('platform')['discount_amount']\n",
    "      .sum()\n",
    "      .sort_values(ascending=False)\n",
    ")\n",
    "print(discount_by_platform)\n"
   ]
  },
  {
   "cell_type": "code",
   "execution_count": 33,
   "id": "c1e8d98e",
   "metadata": {},
   "outputs": [
    {
     "name": "stderr",
     "output_type": "stream",
     "text": [
      "/var/folders/5c/fblzqqy57nd5fh9f2_kv2k700000gn/T/ipykernel_63102/1185591153.py:5: FutureWarning: \n",
      "\n",
      "Passing `palette` without assigning `hue` is deprecated and will be removed in v0.14.0. Assign the `x` variable to `hue` and set `legend=False` for the same effect.\n",
      "\n",
      "  sns.barplot(data=discount_by_platform, x='platform', y='discount_amount', palette='Blues_d')\n"
     ]
    },
    {
     "data": {
      "image/png": "[encoded data removed]",
      "text/plain": [
       "<Figure size 1000x600 with 1 Axes>"
      ]
     },
     "metadata": {},
     "output_type": "display_data"
    }
   ],
   "source": [
    "discount_by_platform = df.groupby('platform')['discount_amount'].sum().reset_index()\n",
    "discount_by_platform = discount_by_platform.sort_values(by='discount_amount', ascending=False)\n",
    "                                                        \n",
    "plt.figure(figsize=(10,6))\n",
    "sns.barplot(data=discount_by_platform, x='platform', y='discount_amount', palette='Blues_d')\n",
    "plt.title('Total Discount Saved by Platform')\n",
    "plt.xlabel('Platform')\n",
    "plt.ylabel('Discount Amount ($)')\n",
    "plt.xticks(rotation=45)\n",
    "plt.show()\n"
   ]
  },
  {
   "cell_type": "markdown",
   "id": "2fdb4279",
   "metadata": {},
   "source": [
    "This bar chart shows how much we’ve saved on each platform through promo codes and deals:\n",
    "- **Uber Eats** – ~NT$9,000 saved: our biggest discounts, driven by frequent food orders.  \n",
    "- **Shopee** – ~NT$5,600 saved: strong marketplace promotions on a range of items.  \n",
    "- **Amazon** & **Food Panda** – ~NT$4,500 each: consistent savings on general retail and meal delivery.  \n",
    "- **Lazada**, **PChome24h**, **iHerb**, **momo** – much smaller or zero savings, suggesting fewer deals and less use.\n",
    "\n",
    "> **Insight:** Food delivery and large e-commerce sites are where we get the best deals.\n",
    "\n",
    "\n",
    "\n",
    "\n",
    "\n",
    "\n",
    "\n"
   ]
  },
  {
   "cell_type": "markdown",
   "id": "b0d39f69",
   "metadata": {},
   "source": [
    "### 12. Average Delivery Time by Year"
   ]
  },
  {
   "cell_type": "code",
   "execution_count": 34,
   "id": "1552f86e",
   "metadata": {},
   "outputs": [
    {
     "name": "stderr",
     "output_type": "stream",
     "text": [
      "/var/folders/5c/fblzqqy57nd5fh9f2_kv2k700000gn/T/ipykernel_63102/2958535317.py:4: FutureWarning: \n",
      "\n",
      "Passing `palette` without assigning `hue` is deprecated and will be removed in v0.14.0. Assign the `x` variable to `hue` and set `legend=False` for the same effect.\n",
      "\n",
      "  sns.barplot(data=delivery_by_year, x='order_year', y='delivery_days', palette='Blues_d')\n"
     ]
    },
    {
     "data": {
      "image/png": "[encoded data removed]",
      "text/plain": [
       "<Figure size 1000x600 with 1 Axes>"
      ]
     },
     "metadata": {},
     "output_type": "display_data"
    }
   ],
   "source": [
    "delivery_by_year = df.groupby('order_year')['delivery_days'].mean().reset_index()\n",
    "\n",
    "plt.figure(figsize=(10,6))\n",
    "sns.barplot(data=delivery_by_year, x='order_year', y='delivery_days', palette='Blues_d')\n",
    "plt.title('Average Delivery Time by Year')\n",
    "plt.ylabel('Avg Delivery Days')\n",
    "plt.xlabel('Order Year')\n",
    "plt.show()\n"
   ]
  },
  {
   "cell_type": "markdown",
   "id": "edd5ac8e",
   "metadata": {},
   "source": [
    "**Key insights:**\n",
    "- **2019 (8.1 days):** In my first year in Vietnam, I didn’t know the addresses or apps well, so deliveries took longer.  \n",
    "- **2020 (4.0 days):** During the pandemic, companies sped up deliveries.  \n",
    "- **2021 (4.9 days):** Supply shortages slowed things down again.  \n",
    "- **2022–2023 (2.3 → 0.9 days):** we used more same-day food apps, so the average dropped to under one day by 2023.  \n",
    "- **2024 (1.7 days):** Ordering baby items and electronics added a bit more delay.  "
   ]
  },
  {
   "cell_type": "markdown",
   "id": "2cccf52e",
   "metadata": {},
   "source": [
    "### 13. Shipping Cost Over Time"
   ]
  },
  {
   "cell_type": "code",
   "execution_count": 35,
   "id": "d0209ee9",
   "metadata": {},
   "outputs": [
    {
     "data": {
      "image/png": "[encoded data removed]",
      "text/plain": [
       "<Figure size 1200x600 with 1 Axes>"
      ]
     },
     "metadata": {},
     "output_type": "display_data"
    }
   ],
   "source": [
    "#Shipping cost over time\n",
    "shipping_trend = df.groupby('order_month_year')['shipping_cost'].sum().reset_index()\n",
    "\n",
    "plt.figure(figsize=(12,6))\n",
    "sns.lineplot(data=shipping_trend, x='order_month_year', y='shipping_cost', marker='o')\n",
    "plt.title('Shipping Cost Over Time')\n",
    "plt.ylabel('Total Shipping Cost')\n",
    "plt.xlabel('Month-Year')\n",
    "plt.tight_layout()\n",
    "plt.show()\n"
   ]
  },
  {
   "cell_type": "markdown",
   "id": "a88b2206",
   "metadata": {},
   "source": [
    "This chart tracks our total monthly shipping fees from 2018 through 2025. \n",
    "\n",
    "**It shows:**\n",
    "- **Steady low fees** early on most months under NT$100 in shipping.  \n",
    "- **Spikes** in **mid-2021** and **early 2022** when we moved cities and ordered bulky items.  \n",
    "- A **major jump** in **late 2024/early 2025**, matching our move to Taiwan and baby-gear deliveries.\n",
    "\n",
    "This view highlights how shipping costs stayed low for everyday orders but jumped when we needed large or international shipments helping us see where most of our delivery fees went.  "
   ]
  },
  {
   "cell_type": "markdown",
   "id": "e5d61562",
   "metadata": {},
   "source": [
    "### 14 Who is ordering more — me or my wife?"
   ]
  },
  {
   "cell_type": "code",
   "execution_count": 60,
   "id": "732904da",
   "metadata": {},
   "outputs": [
    {
     "name": "stdout",
     "output_type": "stream",
     "text": [
      "  order_by  order_id\n",
      "0       me       522\n",
      "1     wife       256\n",
      "order_by\n",
      "me      146441\n",
      "wife    214973\n",
      "Name: total_price, dtype: int64\n",
      "Average order value per person (NT$):\n",
      "- Me: NT$280.54\n",
      "- Wife: NT$839.74\n"
     ]
    },
    {
     "name": "stderr",
     "output_type": "stream",
     "text": [
      "/var/folders/5c/fblzqqy57nd5fh9f2_kv2k700000gn/T/ipykernel_63102/1008143280.py:14: FutureWarning: \n",
      "\n",
      "Passing `palette` without assigning `hue` is deprecated and will be removed in v0.14.0. Assign the `x` variable to `hue` and set `legend=False` for the same effect.\n",
      "\n",
      "  sns.barplot(data=order_counts, x='order_by', y='order_id', palette='Blues_d')\n"
     ]
    },
    {
     "data": {
      "image/png": "[encoded data removed]",
      "text/plain": [
       "<Figure size 640x480 with 1 Axes>"
      ]
     },
     "metadata": {},
     "output_type": "display_data"
    }
   ],
   "source": [
    "# Total number of orders by person\n",
    "order_counts = df.groupby('order_by')['order_id'].nunique().reset_index().sort_values(by='order_id', ascending=False)\n",
    "print(order_counts)\n",
    "spending_by_person = df.groupby('order_by')['total_price'].sum()\n",
    "print(spending_by_person)\n",
    "\n",
    "# Print average order values\n",
    "spent_by_person = df.groupby('order_by')['total_price'].sum()\n",
    "avg_order_value = (spent_by_person / order_counts.set_index('order_by')['order_id']).round(2)\n",
    "print(\"Average order value per person (NT$):\")\n",
    "for person, value in avg_order_value.items():\n",
    "    print(f\"- {person.title()}: NT${value:,.2f}\")\n",
    "\n",
    "sns.barplot(data=order_counts, x='order_by', y='order_id', palette='Blues_d')\n",
    "plt.title('Number of Orders by Person')\n",
    "plt.ylabel('Number of Orders')\n",
    "plt.xlabel('Ordered By')\n",
    "plt.show()"
   ]
  },
  {
   "cell_type": "markdown",
   "id": "31029219",
   "metadata": {},
   "source": [
    "This chart compares how many orders each of us placed:\n",
    "\n",
    "- **Me:** 520 orders (NT$146,441 total)  \n",
    "- **Wife:** 255 orders (NT$214,973 total) \n",
    "\n",
    "**Average Order Value:**  \n",
    "- **Me:** NT\\$280.54  \n",
    "- **Wife:** NT\\$839.74  \n",
    "\n",
    "> **Insight:** I place about **2×** as many orders but account for only **40%** of total spend. That means my average order (NT\\$280) is roughly half the value of my wife’s (NT\\$840).\n"
   ]
  },
  {
   "cell_type": "markdown",
   "id": "04d86235",
   "metadata": {},
   "source": [
    "### 15. Top 5 Categories by Person (Order Quantity)"
   ]
  },
  {
   "cell_type": "code",
   "execution_count": null,
   "id": "ae418c0b",
   "metadata": {},
   "outputs": [
    {
     "name": "stdout",
     "output_type": "stream",
     "text": [
      "order_by               category  quantity\n",
      "    wife                   food       590\n",
      "    wife              groceries       190\n",
      "      me        household items       158\n",
      "      me                 others       128\n",
      "    wife               beverage        86\n",
      "      me                   food        77\n",
      "      me beauty & personal care        76\n",
      "      me      fashion & apparel        74\n",
      "    wife          baby supplies        34\n",
      "    wife        household items        22\n"
     ]
    },
    {
     "data": {
      "image/png": "[encoded data removed]",
      "text/plain": [
       "<Figure size 1078.75x500 with 1 Axes>"
      ]
     },
     "metadata": {},
     "output_type": "display_data"
    }
   ],
   "source": [
    "top_categories = ( df.groupby(['order_by', 'category'])['quantity'].sum().reset_index().sort_values(by='quantity', ascending=False))\n",
    "top5 = top_categories.groupby('order_by').head(5)\n",
    "print(top5.to_string(index=False))\n",
    "\n",
    "top_categories = ( df.groupby(['order_by', 'category'])['quantity'].sum().reset_index().sort_values(by='quantity', ascending=False))\n",
    "top_categories = top_categories.groupby('order_by').head(5)\n",
    "\n",
    "sns.catplot(data=top_categories, x='category', y='quantity', hue='order_by', kind='bar', height=5, aspect=2, palette='Blues_d')\n",
    "plt.title('Top 5 Categories by Person')\n",
    "plt.xticks(rotation=45)\n",
    "plt.ylabel('Total Quantity Ordered')\n",
    "plt.xlabel('Category')\n",
    "plt.tight_layout()\n",
    "plt.show()\n"
   ]
  },
  {
   "cell_type": "markdown",
   "id": "71f25eb9",
   "metadata": {},
   "source": [
    "This chart shows each person’s five most-ordered categories:\n",
    "\n",
    "- **Wife**  \n",
    "  - Food: 590 orders  \n",
    "  - Groceries: 190 orders  \n",
    "  - Beverage: 86 orders  \n",
    "  - Baby supplies: 34 orders  \n",
    "  - Household items: 22 orders  \n",
    "\n",
    "- **Me**  \n",
    "  - Household items: 158 orders  \n",
    "  - Others: 128 orders  \n",
    "  - Food: 77 orders  \n",
    "  - Beauty & personal care: 76 orders  \n",
    "  - Fashion & apparel: 74 orders  \n",
    "\n",
    "**Key takeaway:**  \n",
    "- My wife’s orders are mostly consumables (meals, groceries, drinks).  \n",
    "- My orders lean toward home and personal items (household goods, beauty products, apparel), showing our different priorities.  \n"
   ]
  },
  {
   "cell_type": "markdown",
   "id": "29983644",
   "metadata": {},
   "source": [
    "### 16. Top 5 Spending Categories by Person"
   ]
  },
  {
   "cell_type": "code",
   "execution_count": 65,
   "id": "2436dae9",
   "metadata": {},
   "outputs": [
    {
     "data": {
      "image/png": "[encoded data removed]",
      "text/plain": [
       "<Figure size 1078.75x500 with 1 Axes>"
      ]
     },
     "metadata": {},
     "output_type": "display_data"
    }
   ],
   "source": [
    "spending_by_category = ( df.groupby(['order_by', 'category'])['total_price'].sum().reset_index().sort_values(by='total_price', ascending=False))\n",
    "\n",
    "top_spending_categories = spending_by_category.groupby('order_by').head(5)\n",
    "\n",
    "sns.catplot(data = top_spending_categories, x='category', y='total_price', hue='order_by', kind='bar', height=5, aspect=2, palette='Blues_d')\n",
    "plt.title('Top Spending Categories by Person')\n",
    "plt.ylabel('Total Spending')\n",
    "plt.xlabel('Category')\n",
    "plt.xticks(rotation=45)\n",
    "plt.tight_layout()\n",
    "plt.show()\n"
   ]
  },
  {
   "cell_type": "markdown",
   "id": "a83401dc",
   "metadata": {},
   "source": [
    "- **Wife:**  \n",
    "  Electronics, Food, Household items, Baby supplies, Groceries  \n",
    "\n",
    "- **Me:**  \n",
    "  Household items, Electronics, Beauty & personal care, Fashion & apparel, Groceries  \n",
    "\n",
    "**Key takeaway:**  \n",
    "- My wife’s biggest spends are on **electronics** and **food**, showing her focus on gadgets and meals.  \n",
    "- I spend most on **household essentials** and **personal-care products**, reflecting my home and self needs."
   ]
  },
  {
   "cell_type": "markdown",
   "id": "233c3248",
   "metadata": {},
   "source": [
    "### 17. Top Platforms by Person"
   ]
  },
  {
   "cell_type": "code",
   "execution_count": 73,
   "id": "bacd5a9d",
   "metadata": {},
   "outputs": [
    {
     "data": {
      "image/png": "[encoded data removed]",
      "text/plain": [
       "<Figure size 800x500 with 1 Axes>"
      ]
     },
     "metadata": {},
     "output_type": "display_data"
    }
   ],
   "source": [
    "platform_counts = (df.groupby(['order_by', 'platform']).order_id.nunique().reset_index(name='num_orders'))\n",
    "\n",
    "top5 = (platform_counts.sort_values(['order_by', 'num_orders'], ascending=[True, False]).groupby('order_by').head(5))\n",
    "\n",
    "plt.figure(figsize=(8, 5))\n",
    "ax = sns.barplot(data=top5, x='platform', y='num_orders', hue='order_by', palette='Blues_d')\n",
    "\n",
    "for bar in ax.patches:\n",
    "    ax.text(\n",
    "        bar.get_x() + bar.get_width() / 2,\n",
    "        bar.get_height(),\n",
    "        int(bar.get_height()),\n",
    "        ha='center', va='bottom')\n",
    "\n",
    "plt.title('Top 5 Platforms by Person')\n",
    "plt.xlabel('Platform')\n",
    "plt.ylabel('Number of Orders')\n",
    "plt.xticks(rotation=45)\n",
    "plt.tight_layout()\n",
    "plt.show()\n"
   ]
  },
  {
   "cell_type": "markdown",
   "id": "f4de4b44",
   "metadata": {},
   "source": [
    "- **Me:**  \n",
    "  - **Shopee:** 276 orders  \n",
    "  - **Lazada:** 208 orders  \n",
    "  - **Uber Eats:** 23 orders  \n",
    "  - **Food Panda:** 9 orders  \n",
    "  - **PChome24h:** 5 orders  \n",
    "\n",
    "- **Wife:**  \n",
    "  - **Uber Eats:** 148 orders  \n",
    "  - **PChome24h:** 18 orders  \n",
    "  - **Momo:** 7 orders  \n",
    "\n",
    "**Key takeaway:**  \n",
    "I rely mostly on general marketplaces like Shopee and Lazada, while my wife leans heavily on food-delivery and quick-ship apps (Uber Eats, PChome24h, momo).  \n"
   ]
  },
  {
   "cell_type": "markdown",
   "id": "2579e11a",
   "metadata": {},
   "source": [
    "### Top 5 Delivery Cities"
   ]
  },
  {
   "cell_type": "code",
   "execution_count": 74,
   "id": "e5302ae1",
   "metadata": {},
   "outputs": [
    {
     "name": "stdout",
     "output_type": "stream",
     "text": [
      "city\n",
      "Yuanlin        1010\n",
      "Ho Chi Minh     231\n",
      "Ha Noi          146\n",
      "Tainan           72\n",
      "Kaohsiung        51\n",
      "Name: count, dtype: int64\n"
     ]
    },
    {
     "name": "stderr",
     "output_type": "stream",
     "text": [
      "/var/folders/5c/fblzqqy57nd5fh9f2_kv2k700000gn/T/ipykernel_63102/3939597071.py:5: FutureWarning: \n",
      "\n",
      "Passing `palette` without assigning `hue` is deprecated and will be removed in v0.14.0. Assign the `y` variable to `hue` and set `legend=False` for the same effect.\n",
      "\n",
      "  sns.barplot(x=top_countries.values, y=top_countries.index, palette='Blues_d')\n"
     ]
    },
    {
     "data": {
      "image/png": "[encoded data removed]",
      "text/plain": [
       "<Figure size 800x500 with 1 Axes>"
      ]
     },
     "metadata": {},
     "output_type": "display_data"
    }
   ],
   "source": [
    "top_countries = df['city'].value_counts().head(5)\n",
    "print(top_countries)\n",
    "\n",
    "plt.figure(figsize=(8, 5))\n",
    "sns.barplot(x=top_countries.values, y=top_countries.index, palette='Blues_d')\n",
    "plt.title('Top 5 Delivery Countries')\n",
    "plt.xlabel('Number of Orders')\n",
    "plt.ylabel('City')\n",
    "plt.tight_layout()\n",
    "plt.show()\n"
   ]
  },
  {
   "cell_type": "markdown",
   "id": "f0f3a7a4",
   "metadata": {},
   "source": [
    "This chart shows which cities received the most of our online orders:\n",
    "\n",
    "- **Yuanlin:** 1,010 orders  \n",
    "- **Ho Chi Minh:** 231 orders  \n",
    "- **Ha Noi:** 146 orders  \n",
    "- **Tainan:** 72 orders  \n",
    "- **Kaohsiung:** 52 orders  \n",
    "\n",
    "**Key takeaway:**  \n",
    "- **Yuanlin** tops the list, my wife is from there and has lived in Taiwan far longer than I have, so most packages go to her hometown.  \n",
    "- **Ho Chi Minh** and **Ha Noi** reflect my earlier years living in Vietnam.  \n",
    "- **Tainan** and **Kaohsiung** are smaller but show our occasional orders when we’ve been elsewhere in Taiwan.  "
   ]
  },
  {
   "cell_type": "code",
   "execution_count": 42,
   "id": "a071efa9",
   "metadata": {},
   "outputs": [
    {
     "data": {
      "application/vnd.microsoft.datawrangler.viewer.v0+json": {
       "columns": [
        {
         "name": "index",
         "rawType": "int64",
         "type": "integer"
        },
        {
         "name": "Metric",
         "rawType": "object",
         "type": "string"
        },
        {
         "name": "Value",
         "rawType": "float64",
         "type": "float"
        }
       ],
       "ref": "9f2179ee-3bdf-4011-b86a-6797ef9147a3",
       "rows": [
        [
         "0",
         "Total Orders",
         "778.0"
        ],
        [
         "1",
         "Total Items Purchased",
         "1803.0"
        ],
        [
         "2",
         "Average Discount Used (when applied)",
         "30.53"
        ],
        [
         "3",
         "Average Delivery Time (days)",
         "2.2"
        ],
        [
         "4",
         "Return Rate (%)",
         "0.2"
        ],
        [
         "5",
         "Savings Rate (%)",
         "6.65"
        ]
       ],
       "shape": {
        "columns": 2,
        "rows": 6
       }
      },
      "text/html": [
       "<div>\n",
       "<style scoped>\n",
       "    .dataframe tbody tr th:only-of-type {\n",
       "        vertical-align: middle;\n",
       "    }\n",
       "\n",
       "    .dataframe tbody tr th {\n",
       "        vertical-align: top;\n",
       "    }\n",
       "\n",
       "    .dataframe thead th {\n",
       "        text-align: right;\n",
       "    }\n",
       "</style>\n",
       "<table border=\"1\" class=\"dataframe\">\n",
       "  <thead>\n",
       "    <tr style=\"text-align: right;\">\n",
       "      <th></th>\n",
       "      <th>Metric</th>\n",
       "      <th>Value</th>\n",
       "    </tr>\n",
       "  </thead>\n",
       "  <tbody>\n",
       "    <tr>\n",
       "      <th>0</th>\n",
       "      <td>Total Orders</td>\n",
       "      <td>778.00</td>\n",
       "    </tr>\n",
       "    <tr>\n",
       "      <th>1</th>\n",
       "      <td>Total Items Purchased</td>\n",
       "      <td>1803.00</td>\n",
       "    </tr>\n",
       "    <tr>\n",
       "      <th>2</th>\n",
       "      <td>Average Discount Used (when applied)</td>\n",
       "      <td>30.53</td>\n",
       "    </tr>\n",
       "    <tr>\n",
       "      <th>3</th>\n",
       "      <td>Average Delivery Time (days)</td>\n",
       "      <td>2.20</td>\n",
       "    </tr>\n",
       "    <tr>\n",
       "      <th>4</th>\n",
       "      <td>Return Rate (%)</td>\n",
       "      <td>0.20</td>\n",
       "    </tr>\n",
       "    <tr>\n",
       "      <th>5</th>\n",
       "      <td>Savings Rate (%)</td>\n",
       "      <td>6.65</td>\n",
       "    </tr>\n",
       "  </tbody>\n",
       "</table>\n",
       "</div>"
      ],
      "text/plain": [
       "                                 Metric    Value\n",
       "0                          Total Orders   778.00\n",
       "1                 Total Items Purchased  1803.00\n",
       "2  Average Discount Used (when applied)    30.53\n",
       "3          Average Delivery Time (days)     2.20\n",
       "4                       Return Rate (%)     0.20\n",
       "5                      Savings Rate (%)     6.65"
      ]
     },
     "execution_count": 42,
     "metadata": {},
     "output_type": "execute_result"
    }
   ],
   "source": [
    "import pandas as pd\n",
    "\n",
    "# Total number of orders (unique order IDs)\n",
    "total_orders = df['order_id'].nunique()\n",
    "\n",
    "# Total quantity of items purchased\n",
    "total_items_purchased = df['quantity'].sum()\n",
    "\n",
    "# Average discount used (only when discount > 0)\n",
    "avg_discount_used = df.loc[df['discount_amount'] > 0, 'discount_amount'].mean()\n",
    "\n",
    "# Average delivery time (in days)\n",
    "avg_delivery_days = df['delivery_days'].mean()\n",
    "\n",
    "# Return rate: % of orders that were refunded\n",
    "return_rate = (df['is_returned'].sum() / len(df)) * 100\n",
    "\n",
    "# Savings rate: Total discount amount vs total price before discount\n",
    "# Assuming total_price already includes discount, we'll estimate pre-discount price\n",
    "total_spent = df['total_price'].sum()\n",
    "total_saved = df['discount_amount'].sum()\n",
    "savings_rate = (total_saved / (total_spent + total_saved)) * 100\n",
    "\n",
    "# Assemble into a summary DataFrame\n",
    "summary = pd.DataFrame({\n",
    "    'Metric': [\n",
    "        'Total Orders',\n",
    "        'Total Items Purchased',\n",
    "        'Average Discount Used (when applied)',\n",
    "        'Average Delivery Time (days)',\n",
    "        'Return Rate (%)',\n",
    "        'Savings Rate (%)'\n",
    "    ],\n",
    "    'Value': [\n",
    "        total_orders,\n",
    "        total_items_purchased,\n",
    "        round(avg_discount_used, 2),\n",
    "        round(avg_delivery_days, 2),\n",
    "        round(return_rate, 2),\n",
    "        round(savings_rate, 2)\n",
    "    ]\n",
    "})\n",
    "\n",
    "summary\n"
   ]
  },
  {
   "cell_type": "code",
   "execution_count": 43,
   "id": "43ed3385",
   "metadata": {},
   "outputs": [
    {
     "data": {
      "text/plain": [
       "Index(['order_id', 'purchase_date', 'platform', 'items_name', 'category',\n",
       "       'quantity', 'unit_price', 'shipping_cost', 'discount_amount',\n",
       "       'total_price', 'payment_method', 'delivery_date', 'shipping_address',\n",
       "       'city', 'country', 'return/refund', 'order_by', 'delivery_days',\n",
       "       'discount_used', 'order_month', 'order_year', 'order_month_year',\n",
       "       'is_returned'],\n",
       "      dtype='object')"
      ]
     },
     "execution_count": 43,
     "metadata": {},
     "output_type": "execute_result"
    }
   ],
   "source": [
    "df.columns"
   ]
  },
  {
   "cell_type": "code",
   "execution_count": 75,
   "id": "b664fd0c",
   "metadata": {},
   "outputs": [],
   "source": [
    "dt= pd.read_csv('cleaned_data.csv', dtype=str)"
   ]
  }
 ],
 "metadata": {
  "kernelspec": {
   "display_name": "Python 3",
   "language": "python",
   "name": "python3"
  },
  "language_info": {
   "codemirror_mode": {
    "name": "ipython",
    "version": 3
   },
   "file_extension": ".py",
   "mimetype": "text/x-python",
   "name": "python",
   "nbconvert_exporter": "python",
   "pygments_lexer": "ipython3",
   "version": "3.13.3"
  }
 },
 "nbformat": 4,
 "nbformat_minor": 5
}
